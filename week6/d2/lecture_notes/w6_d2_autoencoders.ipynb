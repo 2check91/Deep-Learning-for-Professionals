{
 "cells": [
  {
   "cell_type": "markdown",
   "metadata": {},
   "source": [
    "# Autoencoders and [Unsupervised Learning](https://en.wikipedia.org/wiki/Unsupervised_learning)\n",
    "\n",
    "First, a brief introduction to unsupervised learning, notes available [here](./DSCI6003-5.4-Lecture.pdf). Also see the valuable scikit-learn page for [clustering](http://scikit-learn.org/stable/modules/clustering.html)\n",
    "\n",
    "If supervised learning is learning the conditional distribution of $y$ dependent on a function $x, \\theta$ $p(y|x,\\theta)$\n",
    "\n",
    "<center><img src=\"images/tiger_supervised.png\" height=\"200\"/></center>\n",
    "\n",
    "we can think about unsupervised learning as learning the unconditional distribution $p(x|\\theta)$ from the creation of a generative function $\\theta$. \n",
    "\n",
    "<center><img src=\"images/tiger_autoencoder.png\" height=\"200\"/></center>"
   ]
  },
  {
   "cell_type": "markdown",
   "metadata": {},
   "source": [
    "## Autoencoders\n",
    "\n",
    "\"Autoencoding\" is a data compression algorithm where the compression and decompression functions are\n",
    "\n",
    "1) data-specific: they will only be able to compress data similar to what they have been trained on.\n",
    "\n",
    "2) lossy:  which means that the decompressed outputs will be degraded compared to the original inputs\n",
    "\n",
    "3) unsupervised: it is easy to train specialized instances of the algorithm that will perform well on a specific type of input.\n",
    "\n",
    "Almost everywhere the term \"autoencoder\" is used, the compression and decompression functions are implemented with neural networks.  In 2012 they briefly found an application in [pretraining for deep convolutional neural networks](http://www.jmlr.org/papers/volume11/erhan10a/erhan10a.pdf), but this quickly fell out of fashion as better random weight initialization schemes were found to be sufficient for training deep networks from scratch. In 2014, [batch normalization](https://arxiv.org/pdf/1502.03167.pdf) started allowing for even deeper networks, and from late 2015 we could train arbitrarily deep networks from scratch using [residual learning](https://arxiv.org/pdf/1512.03385.pdf). These days autoencoders are rarely a standalone tool, especially due to the fact that there are often much better tools (MP3) for specific tasks.  \n"
   ]
  },
  {
   "cell_type": "markdown",
   "metadata": {},
   "source": [
    "### What are autoencoders good for?\n",
    "\n",
    "1) Data Denoising\n",
    "\n",
    "2) Dimensionality reduction for data visualization. With appropriate dimensionality and sparsity constraints, autoencoders can learn data projections that are more interesting than PCA or other basic techniques.\n",
    "\n",
    "For 2D visualization specifically, t-SNE is probably the best algorithm around, but it typically requires relatively low-dimensional data. So a good strategy for visualizing similarity relationships in high-dimensional data is to start by using an autoencoder to compress your data into a low-dimensional space (e.g. 32 dimensional), then use t-SNE for mapping the compressed data to a 2D plane. Note that a nice parametric implementation of t-SNE in Keras was developed by Kyle McDonald and is available on Github. Otherwise scikit-learn also has a [simple and practical implementation you can unpack and use](http://scikit-learn.org/stable/modules/generated/sklearn.manifold.TSNE.html)."
   ]
  },
  {
   "cell_type": "markdown",
   "metadata": {},
   "source": [
    "## Autoencoder architecture\n",
    "\n",
    "<center><img src=\"images/w2v_neural_net.png\" height=\"300\"/></center>\n",
    "\n",
    "You just learned an autoencoder...what was it?"
   ]
  },
  {
   "cell_type": "code",
   "execution_count": 25,
   "metadata": {
    "collapsed": true
   },
   "outputs": [],
   "source": [
    "from keras.layers import Input, Dense\n",
    "from keras.models import Model\n",
    "\n",
    "\n",
    "input_dim =784\n",
    "encoding_dim = 32\n",
    "\n",
    "# this is the size of our encoded representations\n",
    "\n",
    "input_layer = Input(shape=(input_dim, )) # this is our input placeholder\n",
    "\n",
    "encoder1 = Dense(encoding_dim, activation=\"relu\")(input_layer) # try changing the activations inside the encoder\n",
    "encoder2 = Dense(int(encoding_dim // 2), activation=\"relu\")(encoder1)\n",
    "\n",
    "# you can also add more squeezing layers here\n",
    "\n",
    "decoder2 = Dense(int(encoding_dim // 2), activation='relu')(encoder2)\n",
    "decoder1 = Dense(input_dim, activation='sigmoid')(decoder2)\n",
    "\n",
    "autoencoder = Model(inputs=input_layer, outputs=decoder1)\n",
    "autoencoder.compile(optimizer='adam', loss='binary_crossentropy')"
   ]
  },
  {
   "cell_type": "code",
   "execution_count": 26,
   "metadata": {},
   "outputs": [
    {
     "name": "stdout",
     "output_type": "stream",
     "text": [
      "(60000, 784)\n",
      "(10000, 784)\n",
      "Train on 60000 samples, validate on 10000 samples\n",
      "Epoch 1/20\n",
      "60000/60000 [==============================] - 3s - loss: 0.3020 - val_loss: 0.2571\n",
      "Epoch 2/20\n",
      "60000/60000 [==============================] - 4s - loss: 0.2437 - val_loss: 0.2379\n",
      "Epoch 3/20\n",
      "60000/60000 [==============================] - 3s - loss: 0.2267 - val_loss: 0.2136\n",
      "Epoch 4/20\n",
      "60000/60000 [==============================] - 3s - loss: 0.2070 - val_loss: 0.1983\n",
      "Epoch 5/20\n",
      "60000/60000 [==============================] - 3s - loss: 0.1932 - val_loss: 0.1835\n",
      "Epoch 6/20\n",
      "60000/60000 [==============================] - 3s - loss: 0.1803 - val_loss: 0.1752\n",
      "Epoch 7/20\n",
      "60000/60000 [==============================] - 3s - loss: 0.1716 - val_loss: 0.1666\n",
      "Epoch 8/20\n",
      "60000/60000 [==============================] - 4s - loss: 0.1645 - val_loss: 0.1593\n",
      "Epoch 9/20\n",
      "60000/60000 [==============================] - 4s - loss: 0.1581 - val_loss: 0.1545\n",
      "Epoch 10/20\n",
      "60000/60000 [==============================] - 3s - loss: 0.1548 - val_loss: 0.1522\n",
      "Epoch 11/20\n",
      "60000/60000 [==============================] - 3s - loss: 0.1530 - val_loss: 0.1502\n",
      "Epoch 12/20\n",
      "60000/60000 [==============================] - 3s - loss: 0.1507 - val_loss: 0.1478\n",
      "Epoch 13/20\n",
      "60000/60000 [==============================] - 3s - loss: 0.1483 - val_loss: 0.1457\n",
      "Epoch 14/20\n",
      "60000/60000 [==============================] - 4s - loss: 0.1465 - val_loss: 0.1444\n",
      "Epoch 15/20\n",
      "60000/60000 [==============================] - 3s - loss: 0.1453 - val_loss: 0.1434\n",
      "Epoch 16/20\n",
      "60000/60000 [==============================] - 4s - loss: 0.1441 - val_loss: 0.1421\n",
      "Epoch 17/20\n",
      "60000/60000 [==============================] - 4s - loss: 0.1427 - val_loss: 0.1406\n",
      "Epoch 18/20\n",
      "60000/60000 [==============================] - 3s - loss: 0.1413 - val_loss: 0.1393\n",
      "Epoch 19/20\n",
      "60000/60000 [==============================] - 4s - loss: 0.1403 - val_loss: 0.1383\n",
      "Epoch 20/20\n",
      "60000/60000 [==============================] - 4s - loss: 0.1390 - val_loss: 0.1367\n"
     ]
    }
   ],
   "source": [
    "from keras.datasets import mnist\n",
    "import numpy as np\n",
    "(x_train, _), (x_test, _) = mnist.load_data()\n",
    "x_train = x_train.astype('float32') / 255.\n",
    "x_test = x_test.astype('float32') / 255.\n",
    "x_train = x_train.reshape((len(x_train), np.prod(x_train.shape[1:])))\n",
    "x_test = x_test.reshape((len(x_test), np.prod(x_test.shape[1:])))\n",
    "print(x_train.shape)\n",
    "print(x_test.shape)\n",
    "autoencoder.fit(x_train, x_train,\n",
    "                epochs=20,\n",
    "                batch_size=128,\n",
    "                shuffle=True,\n",
    "                validation_data=(x_test, x_test))\n",
    "# encode and decode some digits\n",
    "# note that we take them from the *test* set\n",
    "#encoded_imgs = encoder.predict(x_test)\n",
    "decoded_imgs = autoencoder.predict(x_test)"
   ]
  },
  {
   "cell_type": "code",
   "execution_count": 27,
   "metadata": {},
   "outputs": [
    {
     "data": {
      "image/png": "[encoded data removed]",
      "text/plain": [
       "<matplotlib.figure.Figure at 0x7f9e2fedc2e8>"
      ]
     },
     "metadata": {},
     "output_type": "display_data"
    }
   ],
   "source": [
    "# use Matplotlib (don't ask)\n",
    "import matplotlib.pyplot as plt\n",
    "\n",
    "n = 10  # how many digits we will display\n",
    "plt.figure(figsize=(20, 4))\n",
    "for i in range(n):\n",
    "    # display original\n",
    "    ax = plt.subplot(2, n, i + 1)\n",
    "    plt.imshow(x_test[i].reshape(28, 28))\n",
    "    plt.gray()\n",
    "    ax.get_xaxis().set_visible(False)\n",
    "    ax.get_yaxis().set_visible(False)\n",
    "\n",
    "    # display reconstruction\n",
    "    ax = plt.subplot(2, n, i + 1 + n)\n",
    "    plt.imshow(decoded_imgs[i].reshape(28, 28))\n",
    "    plt.gray()\n",
    "    ax.get_xaxis().set_visible(False)\n",
    "    ax.get_yaxis().set_visible(False)\n",
    "plt.show()\n"
   ]
  },
  {
   "cell_type": "markdown",
   "metadata": {},
   "source": [
    "## Denoising with Autoencoders\n",
    "\n",
    "This is an obvious application of Autoencoders, really, simply using the layer properties as a filter for strong signal. Not much to it, really."
   ]
  },
  {
   "cell_type": "code",
   "execution_count": 23,
   "metadata": {},
   "outputs": [
    {
     "data": {
      "text/plain": [
       "<matplotlib.figure.Figure at 0x7fe35fc1a8d0>"
      ]
     },
     "metadata": {},
     "output_type": "display_data"
    },
    {
     "data": {
      "text/plain": [
       "<matplotlib.figure.Figure at 0x7fe35fc01da0>"
      ]
     },
     "metadata": {},
     "output_type": "display_data"
    },
    {
     "data": {
      "image/png": "[encoded data removed]",
      "text/plain": [
       "<matplotlib.figure.Figure at 0x7fe36a6bd240>"
      ]
     },
     "metadata": {},
     "output_type": "display_data"
    }
   ],
   "source": [
    "## Let's generate some noisy digits\n",
    "\n",
    "from keras.datasets import mnist\n",
    "import numpy as np\n",
    "\n",
    "(x_train, _), (x_test, _) = mnist.load_data()\n",
    "\n",
    "x_train = x_train.astype('float32') / 255.\n",
    "x_test = x_test.astype('float32') / 255.\n",
    "x_train = np.reshape(x_train, (len(x_train), 28, 28, 1))  # adapt this if using `channels_first` image data format\n",
    "x_test = np.reshape(x_test, (len(x_test), 28, 28, 1))  # adapt this if using `channels_first` image data format\n",
    "\n",
    "noise_factor = 0.5\n",
    "x_train_noisy = x_train + noise_factor * np.random.normal(loc=0.0, scale=1.0, size=x_train.shape) \n",
    "x_test_noisy = x_test + noise_factor * np.random.normal(loc=0.0, scale=1.0, size=x_test.shape) \n",
    "\n",
    "x_train_noisy = np.clip(x_train_noisy, 0., 1.)\n",
    "x_test_noisy = np.clip(x_test_noisy, 0., 1.)\n",
    "\n",
    "n = 10\n",
    "plt.figure(figsize=(20, 2))\n",
    "for i in range(n):\n",
    "    ax = plt.subplot(1, n+1, i+1)\n",
    "    plt.imshow(x_test_noisy[i].reshape(28, 28))\n",
    "    plt.gray()\n",
    "    ax.get_xaxis().set_visible(False)\n",
    "    ax.get_yaxis().set_visible(False)\n",
    "plt.show()"
   ]
  },
  {
   "cell_type": "code",
   "execution_count": 27,
   "metadata": {},
   "outputs": [
    {
     "name": "stdout",
     "output_type": "stream",
     "text": [
      "Train on 60000 samples, validate on 10000 samples\n",
      "Epoch 1/2\n",
      "60000/60000 [==============================] - 95s - loss: 0.2045 - val_loss: 0.1382\n",
      "Epoch 2/2\n",
      "60000/60000 [==============================] - 93s - loss: 0.1241 - val_loss: 0.1166\n"
     ]
    },
    {
     "data": {
      "text/plain": [
       "<keras.callbacks.History at 0x7fe36b606400>"
      ]
     },
     "execution_count": 27,
     "metadata": {},
     "output_type": "execute_result"
    }
   ],
   "source": [
    "from keras.layers import Input, Dense, Conv2D, MaxPooling2D, UpSampling2D\n",
    "from keras.models import Model\n",
    "from keras import backend as K\n",
    "from keras.callbacks import TensorBoard\n",
    "\n",
    "input_img = Input(shape=(28, 28, 1))  # adapt this if using `channels_first` image data format\n",
    "\n",
    "x = Conv2D(32, (3, 3), activation='relu', padding='same')(input_img) # shorthand for matching padding to the 32\n",
    "x = MaxPooling2D((2, 2), padding='same')(x)\n",
    "x = Conv2D(32, (3, 3), activation='relu', padding='same')(x)\n",
    "encoded = MaxPooling2D((2, 2), padding='same')(x)\n",
    "\n",
    "# at this point the representation is (7, 7, 32)\n",
    "\n",
    "x = Conv2D(32, (3, 3), activation='relu', padding='same')(encoded)\n",
    "x = UpSampling2D((2, 2))(x)\n",
    "x = Conv2D(32, (3, 3), activation='relu', padding='same')(x)\n",
    "x = UpSampling2D((2, 2))(x)\n",
    "decoded = Conv2D(1, (3, 3), activation='sigmoid', padding='same')(x)\n",
    "\n",
    "autoencoder = Model(input_img, decoded)\n",
    "autoencoder.compile(optimizer='adadelta', loss='binary_crossentropy')\n",
    "autoencoder.fit(x_train_noisy, x_train,\n",
    "                epochs=2,\n",
    "                batch_size=128,\n",
    "                shuffle=True,\n",
    "                validation_data=(x_test_noisy, x_test),\n",
    "                callbacks=[TensorBoard(log_dir='/tmp/tb', histogram_freq=0, write_graph=False)])\n"
   ]
  },
  {
   "cell_type": "code",
   "execution_count": 28,
   "metadata": {},
   "outputs": [
    {
     "data": {
      "image/png": "[encoded data removed]",
      "text/plain": [
       "<matplotlib.figure.Figure at 0x7fe36afbf550>"
      ]
     },
     "metadata": {},
     "output_type": "display_data"
    }
   ],
   "source": [
    "n = 10  # how many digits we will display\n",
    "plt.figure(figsize=(20, 4))\n",
    "for i in range(n):\n",
    "    # display original\n",
    "    ax = plt.subplot(2, n, i + 1)\n",
    "    plt.imshow(x_test_noisy[i].reshape(28, 28))\n",
    "    plt.gray()\n",
    "    ax.get_xaxis().set_visible(False)\n",
    "    ax.get_yaxis().set_visible(False)\n",
    "\n",
    "    # display reconstruction\n",
    "    ax = plt.subplot(2, n, i + 1 + n)\n",
    "    plt.imshow(decoded_imgs[i].reshape(28, 28))\n",
    "    plt.gray()\n",
    "    ax.get_xaxis().set_visible(False)\n",
    "    ax.get_yaxis().set_visible(False)\n",
    "plt.show()"
   ]
  },
  {
   "cell_type": "markdown",
   "metadata": {},
   "source": [
    "## Dimensionality Reduction with Autoencoders\n",
    "\n",
    "This is another obvious application of Autoencoders. In fact, it's one of the most powerful because of its generality and ease of application. Every data scientist needs to do dimensionality reduction once in a [while](http://scikit-learn.org/stable/auto_examples/datasets/plot_iris_dataset.html#sphx-glr-auto-examples-datasets-plot-iris-dataset-py).\n",
    "\n",
    "It has been shown that if there is one linear hidden layer and the mean squared error criterion is used to train the network, then the k hidden units learn to project the input are in the span of the first k principal components of the data. If the hidden layer is non-linear the compression is more useful, capturing multimodal aspects.\n",
    "\n",
    "For this reason, one way to evaluate an autoencoder efficacy in dimensionality reduction is cutting the output of the middle hidden layer and compare the accuracy/performance of your desired algorithm by this reduced data rather than using original data. Generally, PCA is a linear method, while autoencoders are usually non-linear. "
   ]
  },
  {
   "cell_type": "code",
   "execution_count": 29,
   "metadata": {},
   "outputs": [
    {
     "name": "stdout",
     "output_type": "stream",
     "text": [
      "Train on 60000 samples, validate on 10000 samples\n",
      "Epoch 1/2\n",
      "60000/60000 [==============================] - 14s - loss: 0.0983 - val_loss: 0.0675\n",
      "Epoch 2/2\n",
      "60000/60000 [==============================] - 15s - loss: 0.0659 - val_loss: 0.0644\n",
      "Train on 60000 samples, validate on 10000 samples\n",
      "Epoch 1/2\n",
      "60000/60000 [==============================] - 8s - loss: 1.5842 - acc: 0.3952 - val_loss: 1.1189 - val_acc: 0.6281\n",
      "Epoch 2/2\n",
      "60000/60000 [==============================] - 10s - loss: 0.8515 - acc: 0.7526 - val_loss: 0.7038 - val_acc: 0.8392\n",
      " 9440/10000 [===========================>..] - ETA: 0sAccuracy:  0.8392\n"
     ]
    }
   ],
   "source": [
    "from keras.datasets import mnist \n",
    "from keras.models import Model \n",
    "from keras.layers import Input, Dense \n",
    "from keras.utils import np_utils \n",
    "import numpy as np\n",
    "\n",
    "num_train = 60000\n",
    "num_test = 10000\n",
    "\n",
    "height, width, depth = 28, 28, 1 # MNIST images are 28x28\n",
    "num_classes = 10 # there are 10 classes (1 per digit)\n",
    "\n",
    "(x_train, y_train), (x_test, y_test) = mnist.load_data()\n",
    "\n",
    "x_train = x_train.reshape(num_train, height * width)\n",
    "x_test = x_test.reshape(num_test, height * width)\n",
    "x_train = x_train.astype('float32') \n",
    "x_test = x_test.astype('float32')\n",
    "\n",
    "x_train /= 255 # Normalise data to [0, 1] range\n",
    "x_test /= 255 # Normalise data to [0, 1] range\n",
    "\n",
    "y_train = np_utils.to_categorical(y_train, num_classes) # One-hot encode the labels\n",
    "y_test = np_utils.to_categorical(y_test, num_classes) # One-hot encode the labels\n",
    "\n",
    "input_img = Input(shape=(height * width,))\n",
    "\n",
    "x = Dense(height * width, activation='relu')(input_img)\n",
    "\n",
    "encoded = Dense(height * width//2, activation='relu')(x)\n",
    "encoded = Dense(height * width//8, activation='relu')(encoded)\n",
    "\n",
    "y = Dense(height * width//256, activation='relu')(encoded) # Has 28**2/256 = 3 columns! Can you get similar performance with \n",
    "                                                    # a smaller filter\n",
    "\n",
    "decoded = Dense(height * width//8, activation='relu')(y)\n",
    "decoded = Dense(height * width//2, activation='relu')(decoded)\n",
    "\n",
    "z = Dense(height * width, activation='sigmoid')(decoded)\n",
    "model = Model(input_img, z)\n",
    "\n",
    "model.compile(optimizer='adadelta', loss='mse') # reporting the accuracy\n",
    "\n",
    "model.fit(x_train, x_train,\n",
    "      epochs=2,\n",
    "      batch_size=128,\n",
    "      shuffle=True,\n",
    "      validation_data=(x_test, x_test))\n",
    "\n",
    "mid = Model(input_img, y)\n",
    "reduced_representation =mid.predict(x_test)\n",
    "\n",
    "out = Dense(num_classes, activation='softmax')(y)\n",
    "reduced = Model(input_img, out)\n",
    "reduced.compile(loss='categorical_crossentropy',\n",
    "          optimizer='adam', \n",
    "          metrics=['accuracy']) \n",
    "\n",
    "reduced.fit(x_train, y_train,\n",
    "      epochs=2,\n",
    "      batch_size=128,\n",
    "      shuffle=True,\n",
    "      validation_data=(x_test, y_test))\n",
    "\n",
    "\n",
    "scores = reduced.evaluate(x_test, y_test, verbose=1) \n",
    "print(\"Accuracy: \", scores[1])"
   ]
  },
  {
   "cell_type": "code",
   "execution_count": 35,
   "metadata": {},
   "outputs": [
    {
     "name": "stdout",
     "output_type": "stream",
     "text": [
      " 9920/10000 [============================>.] - ETA: 0sAccuracy:  0.8392\n"
     ]
    }
   ],
   "source": [
    "\n",
    "scores = reduced.evaluate(x_test, y_test, verbose=1) \n",
    "print(\"Accuracy: \", scores[1])"
   ]
  },
  {
   "cell_type": "markdown",
   "metadata": {},
   "source": [
    "### we can have a look at the reduced representation here. Note that the reduced dimensions group around centroids - they are not all exactly equivalent."
   ]
  },
  {
   "cell_type": "code",
   "execution_count": 41,
   "metadata": {},
   "outputs": [
    {
     "name": "stdout",
     "output_type": "stream",
     "text": [
      "7:[ 21.6453743    8.98405933   2.4856894 ]\n",
      "2:[ 11.02558708   7.2067914    1.05235946]\n",
      "1:[ 31.07684708  10.61560059   3.67190123]\n"
     ]
    }
   ],
   "source": [
    "for i in range(3):\n",
    "    print(\"{}:{}\".format(np.argmax(y_test[i]),reduced_representation[i]))"
   ]
  },
  {
   "cell_type": "code",
   "execution_count": 39,
   "metadata": {},
   "outputs": [
    {
     "name": "stdout",
     "output_type": "stream",
     "text": [
      "[ 0.          0.          0.          0.          0.          0.          0.\n",
      "  0.          0.          0.          0.          0.          0.          0.\n",
      "  0.          0.          0.          0.          0.          0.          0.\n",
      "  0.          0.          0.          0.          0.          0.          0.\n",
      "  0.          0.          0.          0.          0.          0.          0.\n",
      "  0.          0.          0.          0.          0.          0.          0.\n",
      "  0.          0.          0.          0.          0.          0.          0.\n",
      "  0.          0.          0.          0.          0.          0.          0.\n",
      "  0.          0.          0.          0.          0.          0.          0.\n",
      "  0.          0.          0.          0.          0.          0.          0.\n",
      "  0.          0.          0.          0.          0.          0.          0.\n",
      "  0.          0.          0.          0.          0.          0.          0.\n",
      "  0.          0.          0.          0.          0.          0.          0.\n",
      "  0.          0.          0.          0.          0.          0.          0.\n",
      "  0.          0.          0.          0.          0.          0.          0.\n",
      "  0.          0.          0.          0.          0.          0.          0.\n",
      "  0.          0.          0.          0.          0.          0.          0.\n",
      "  0.          0.          0.          0.          0.          0.          0.\n",
      "  0.          0.          0.          0.          0.          0.          0.\n",
      "  0.          0.          0.          0.          0.          0.          0.\n",
      "  0.          0.          0.          0.          0.          0.          0.\n",
      "  0.          0.          0.          0.          0.          0.          0.\n",
      "  0.          0.          0.          0.          0.          0.          0.\n",
      "  0.          0.          0.          0.          0.          0.          0.\n",
      "  0.          0.          0.          0.          0.          0.          0.\n",
      "  0.          0.          0.          0.          0.          0.          0.\n",
      "  0.          0.          0.          0.          0.          0.          0.\n",
      "  0.          0.          0.          0.          0.          0.          0.\n",
      "  0.          0.          0.          0.          0.          0.\n",
      "  0.32941177  0.72549021  0.62352943  0.59215689  0.23529412  0.14117648\n",
      "  0.          0.          0.          0.          0.          0.          0.\n",
      "  0.          0.          0.          0.          0.          0.          0.\n",
      "  0.          0.          0.          0.          0.          0.          0.\n",
      "  0.          0.87058824  0.99607843  0.99607843  0.99607843  0.99607843\n",
      "  0.94509804  0.7764706   0.7764706   0.7764706   0.7764706   0.7764706\n",
      "  0.7764706   0.7764706   0.7764706   0.66666669  0.20392157  0.          0.\n",
      "  0.          0.          0.          0.          0.          0.          0.\n",
      "  0.          0.          0.          0.26274511  0.44705883  0.28235295\n",
      "  0.44705883  0.63921571  0.89019608  0.99607843  0.88235295  0.99607843\n",
      "  0.99607843  0.99607843  0.98039216  0.89803922  0.99607843  0.99607843\n",
      "  0.54901963  0.          0.          0.          0.          0.          0.\n",
      "  0.          0.          0.          0.          0.          0.          0.\n",
      "  0.          0.          0.          0.          0.06666667  0.25882354\n",
      "  0.05490196  0.26274511  0.26274511  0.26274511  0.23137255  0.08235294\n",
      "  0.9254902   0.99607843  0.41568628  0.          0.          0.          0.\n",
      "  0.          0.          0.          0.          0.          0.          0.\n",
      "  0.          0.          0.          0.          0.          0.          0.\n",
      "  0.          0.          0.          0.          0.          0.\n",
      "  0.32549021  0.99215686  0.81960785  0.07058824  0.          0.          0.\n",
      "  0.          0.          0.          0.          0.          0.          0.\n",
      "  0.          0.          0.          0.          0.          0.          0.\n",
      "  0.          0.          0.          0.          0.          0.\n",
      "  0.08627451  0.9137255   1.          0.32549021  0.          0.          0.\n",
      "  0.          0.          0.          0.          0.          0.          0.\n",
      "  0.          0.          0.          0.          0.          0.          0.\n",
      "  0.          0.          0.          0.          0.          0.          0.\n",
      "  0.50588238  0.99607843  0.93333334  0.17254902  0.          0.          0.\n",
      "  0.          0.          0.          0.          0.          0.          0.\n",
      "  0.          0.          0.          0.          0.          0.          0.\n",
      "  0.          0.          0.          0.          0.          0.\n",
      "  0.23137255  0.97647059  0.99607843  0.24313726  0.          0.          0.\n",
      "  0.          0.          0.          0.          0.          0.          0.\n",
      "  0.          0.          0.          0.          0.          0.          0.\n",
      "  0.          0.          0.          0.          0.          0.          0.\n",
      "  0.52156866  0.99607843  0.73333335  0.01960784  0.          0.          0.\n",
      "  0.          0.          0.          0.          0.          0.          0.\n",
      "  0.          0.          0.          0.          0.          0.          0.\n",
      "  0.          0.          0.          0.          0.          0.\n",
      "  0.03529412  0.80392158  0.97254902  0.22745098  0.          0.          0.\n",
      "  0.          0.          0.          0.          0.          0.          0.\n",
      "  0.          0.          0.          0.          0.          0.          0.\n",
      "  0.          0.          0.          0.          0.          0.          0.\n",
      "  0.49411765  0.99607843  0.71372551  0.          0.          0.          0.\n",
      "  0.          0.          0.          0.          0.          0.          0.\n",
      "  0.          0.          0.          0.          0.          0.          0.\n",
      "  0.          0.          0.          0.          0.          0.\n",
      "  0.29411766  0.98431373  0.94117647  0.22352941  0.          0.          0.\n",
      "  0.          0.          0.          0.          0.          0.          0.\n",
      "  0.          0.          0.          0.          0.          0.          0.\n",
      "  0.          0.          0.          0.          0.          0.\n",
      "  0.07450981  0.86666667  0.99607843  0.65098041  0.          0.          0.\n",
      "  0.          0.          0.          0.          0.          0.          0.\n",
      "  0.          0.          0.          0.          0.          0.          0.\n",
      "  0.          0.          0.          0.          0.          0.\n",
      "  0.01176471  0.79607844  0.99607843  0.85882354  0.13725491  0.          0.\n",
      "  0.          0.          0.          0.          0.          0.          0.\n",
      "  0.          0.          0.          0.          0.          0.          0.\n",
      "  0.          0.          0.          0.          0.          0.          0.\n",
      "  0.14901961  0.99607843  0.99607843  0.3019608   0.          0.          0.\n",
      "  0.          0.          0.          0.          0.          0.          0.\n",
      "  0.          0.          0.          0.          0.          0.          0.\n",
      "  0.          0.          0.          0.          0.          0.\n",
      "  0.12156863  0.87843138  0.99607843  0.4509804   0.00392157  0.          0.\n",
      "  0.          0.          0.          0.          0.          0.          0.\n",
      "  0.          0.          0.          0.          0.          0.          0.\n",
      "  0.          0.          0.          0.          0.          0.          0.\n",
      "  0.52156866  0.99607843  0.99607843  0.20392157  0.          0.          0.\n",
      "  0.          0.          0.          0.          0.          0.          0.\n",
      "  0.          0.          0.          0.          0.          0.          0.\n",
      "  0.          0.          0.          0.          0.          0.\n",
      "  0.23921569  0.94901961  0.99607843  0.99607843  0.20392157  0.          0.\n",
      "  0.          0.          0.          0.          0.          0.          0.\n",
      "  0.          0.          0.          0.          0.          0.          0.\n",
      "  0.          0.          0.          0.          0.          0.          0.\n",
      "  0.47450981  0.99607843  0.99607843  0.85882354  0.15686275  0.          0.\n",
      "  0.          0.          0.          0.          0.          0.          0.\n",
      "  0.          0.          0.          0.          0.          0.          0.\n",
      "  0.          0.          0.          0.          0.          0.          0.\n",
      "  0.47450981  0.99607843  0.81176472  0.07058824  0.          0.          0.\n",
      "  0.          0.          0.          0.          0.          0.          0.\n",
      "  0.          0.          0.          0.          0.          0.          0.\n",
      "  0.          0.          0.          0.          0.          0.          0.\n",
      "  0.          0.          0.          0.          0.          0.          0.\n",
      "  0.          0.          0.          0.          0.          0.          0.\n",
      "  0.          0.          0.          0.        ]\n"
     ]
    }
   ],
   "source": [
    "for i in range(1):\n",
    "    print(x_test[i])"
   ]
  },
  {
   "cell_type": "code",
   "execution_count": null,
   "metadata": {
    "collapsed": true
   },
   "outputs": [],
   "source": []
  }
 ],
 "metadata": {
  "kernelspec": {
   "display_name": "Python 3",
   "language": "python",
   "name": "python3"
  },
  "language_info": {
   "codemirror_mode": {
    "name": "ipython",
    "version": 3
   },
   "file_extension": ".py",
   "mimetype": "text/x-python",
   "name": "python",
   "nbconvert_exporter": "python",
   "pygments_lexer": "ipython3",
   "version": "3.6.1"
  }
 },
 "nbformat": 4,
 "nbformat_minor": 2
}
