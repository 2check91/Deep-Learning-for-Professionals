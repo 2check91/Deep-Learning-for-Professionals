{
 "cells": [
  {
   "cell_type": "code",
   "execution_count": null,
   "metadata": {
    "collapsed": true
   },
   "outputs": [],
   "source": [
    "#Topics\n",
    "\n",
    "# Introducing Tensorflow (MLP)\n",
    "    # Tensorflow reading\n",
    "# Introducing Keras (MLP)\n",
    "    # Introduction to simple constructs in Keras\n",
    "# Simple classification on the MNIST using MLP"
   ]
  },
  {
   "cell_type": "markdown",
   "metadata": {},
   "source": [
    "# Building Networks with Modern Tools\n",
    "\n",
    "There is a huge proliferation (every year, actually) of \"new\" and \"improved\" deep learning tools. This is because many software engineers have become energized by the hype cycle and eager to take advantage of it, with their tool hopefully landing in front of the next hype cycle. We can expect this to go on for sometime. \n",
    "\n",
    "The two tools focused on by this course, Keras and Tensorflow, were chosen for their durability, universality, and their proven ability to stay ahead of the hype. Although the scope of these libraries is very large, fortunately, they are both simple enough for competent programmers to pick up almost straight away. The best way to learn these frameworks is building familiar architectures in them, using foundational knowledge.\n",
    "\n",
    "Let's cut out the middleman here by using our old familiar friend, the 2-3-1 MLP:\n",
    "\n",
    "$$NN({\\bf{x}}, \\theta) = \\sigma(\\sigma({\\bf{x}}{\\bf{W^{(1)}}}+\\theta_{1}){\\bf{W^{(2)}}}+\\theta_{2})$$\n"
   ]
  },
  {
   "cell_type": "markdown",
   "metadata": {},
   "source": [
    "## Building the MLP in Tensorflow\n",
    "\n",
    "As can be seen below, tensorflow is a very detailed and somewhat verbose language, and for our purposes, we will not spend a large amount of classtime building in it, although I may provide examples in it for your edification, or perhaps provide a special lecture in it. Why? Tensorflow is incredibly challenging to [debug](https://github.com/wookayin/tensorflow-talk-debugging) and does not behave in an intuitive way (because it doesn't work intuitively). \n",
    "\n",
    "If you wish to master a codebase with the intent of going out and getting jobs specifically with the intent of doing research on deep learning projects, then tensorflow is a good place to work in, and this class is a good enviroment to develop your skills in it. Specific courses in Tensorflow are also available for those that wish to specialize in it. \n",
    "\n",
    "### How Tensorflow Works\n",
    "\n",
    "Tensorflow is a type of [dataflow programming language](https://en.wikipedia.org/wiki/Dataflow_programming). Dataflow programming is at the center of the reactive and concurrent programming paradigms so common today. What is it exactly? It is an implementation of the same computational graph abstraction that you've been learning for the last week. Tensorflow actually implements the computational graphs, layer-by-layer, that we've been drawing. The google tensorflow group has provided a tool called [TensorBoard](https://www.tensorflow.org/get_started/summaries_and_tensorboard) that enables the direct visualization of the graphs you're building. One look at the above-linked help page should make it clear to you Tensorflow is a heavyweight programming language and so even simple graphs are onerous to build and debug. \n"
   ]
  },
  {
   "cell_type": "code",
   "execution_count": 12,
   "metadata": {},
   "outputs": [],
   "source": [
    "### here we'll write the old parameters for our sleep-studying vs. test score dataset\n",
    "\n",
    "import keras\n",
    "import tensorflow as tf\n",
    "from pylab import *\n",
    "X = np.array(([3,5], [5,1], [10,2]), dtype=float)\n",
    "y = np.array(([72], [82], [93]), dtype=float)\n",
    "X_train = X/np.amax(X, axis=0)\n",
    "y_train = y/100."
   ]
  },
  {
   "cell_type": "code",
   "execution_count": 45,
   "metadata": {},
   "outputs": [
    {
     "name": "stdout",
     "output_type": "stream",
     "text": [
      "Epoch: 0 current error: 0.11221352964639664\n",
      "Epoch: 100 current error: 0.008628220297396183\n",
      "Epoch: 200 current error: 0.001965890172868967\n",
      "Epoch: 300 current error: 0.00019303204317111522\n",
      "Epoch: 400 current error: 2.7573114493861794e-05\n"
     ]
    }
   ],
   "source": [
    "import tensorflow as tf\n",
    "import numpy as np\n",
    "import matplotlib.pyplot as plt\n",
    "\n",
    "D = 2\n",
    "M = 3\n",
    "K = 1\n",
    "\n",
    "perm = np.random.permutation(len(X))\n",
    "X = X_train[perm]\n",
    "Y = y_train[perm]\n",
    "\n",
    "N = len(Y)\n",
    "\n",
    "def init_weights(shape):\n",
    "    return tf.Variable(tf.random_normal(shape, stddev=0.01))\n",
    "\n",
    "def predict(X, W1, b1, W2, b2):\n",
    "    Z = tf.nn.sigmoid(tf.matmul(X, W1) + b1)\n",
    "    return tf.nn.sigmoid(tf.matmul(Z, W2) + b2)\n",
    "\n",
    "tfX = tf.placeholder(tf.float32, [None, D])\n",
    "tfY = tf.placeholder(tf.float32, [None, K])\n",
    "\n",
    "W1 = init_weights([D, M])\n",
    "b1 = init_weights([M])\n",
    "W2 = init_weights([M, K])\n",
    "b2 = init_weights([K])\n",
    "\n",
    "y_ = predict(tfX, W1, b1, W2, b2)\n",
    "\n",
    "\n",
    "cost = tf.reduce_mean(tf.square(y_-y_train))\n",
    "#cost = tf.reduce_mean(tf.nn.softmax_cross_entropy_with_logits(labels=T, logits=py_x))\n",
    "\n",
    "train_op = tf.train.RMSPropOptimizer(0.01).minimize(cost)\n",
    "#train_op = tf.train.GradientDescentOptimizer(0.001).minimize(cost)\n",
    "\n",
    "\n",
    "sess = tf.Session()\n",
    "init = tf.global_variables_initializer()\n",
    "\n",
    "sess.run(init)\n",
    "for i in range(500):\n",
    "    sess.run(train_op, feed_dict={tfX: X, tfY: Y})\n",
    "    cost_val = sess.run(cost, feed_dict={tfX: X, tfY: Y})\n",
    "    if i % 100 == 0:\n",
    "        print(\"Epoch: {} current error: {}\".format(i,cost_val))\n"
   ]
  },
  {
   "cell_type": "markdown",
   "metadata": {},
   "source": [
    "## Building the MLP in Keras\n",
    "\n",
    "Keras is a high-level management interface for Tensorflow or Theano. Building models in it is a relatively trivial task, almost completely free of misery as compared to attempting lower-level work in Tensorflow as above. It is preferred for our class as it does not require the intense debugging and great complexity that Tensorflow applications do. This comes at the cost of control over exactitudes of architecture, however, since we are studying architectures that are already known, Keras is a preferred tool due to its simplicity."
   ]
  },
  {
   "cell_type": "code",
   "execution_count": 3,
   "metadata": {},
   "outputs": [
    {
     "name": "stdout",
     "output_type": "stream",
     "text": [
      "_________________________________________________________________\n",
      "Layer (type)                 Output Shape              Param #   \n",
      "=================================================================\n",
      "dense_1 (Dense)              (None, 2)                 6         \n",
      "_________________________________________________________________\n",
      "dense_2 (Dense)              (None, 3)                 9         \n",
      "_________________________________________________________________\n",
      "dense_3 (Dense)              (None, 1)                 4         \n",
      "=================================================================\n",
      "Total params: 19\n",
      "Trainable params: 19\n",
      "Non-trainable params: 0\n",
      "_________________________________________________________________\n",
      "None\n"
     ]
    },
    {
     "data": {
      "text/plain": [
       "array([[ 0.00090179],\n",
       "       [ 0.00061149],\n",
       "       [ 0.00030547]])"
      ]
     },
     "execution_count": 3,
     "metadata": {},
     "output_type": "execute_result"
    }
   ],
   "source": [
    "np.random.seed(42)\n",
    "\n",
    "from keras.models import Sequential\n",
    "from keras.layers import Dense\n",
    "\n",
    "# Define model\n",
    "model = Sequential() # Keras focuses a great deal on using \"models\" as a generator of frameworks for building NN\n",
    "                    # unders\n",
    "\n",
    "# Of course, a simplified generating structure is easily possible\n",
    "W_1 = Dense(units=2, \n",
    "            activation='linear', # This is our perceptrons input layer\n",
    "            input_shape=(2,))\n",
    "\n",
    "W_2 = Dense(units=3, \n",
    "            activation='sigmoid', # This is the hidden layer\n",
    "            input_shape=(3,))\n",
    "\n",
    "W_3 = Dense(units=1, \n",
    "            activation='sigmoid', # This is the output layer!\n",
    "            input_shape=(3,))\n",
    "\n",
    "for l in (W_1, W_2, W_3):\n",
    "    model.add(l)\n",
    "    \n",
    "model.compile(loss='mean_squared_error',\n",
    "              optimizer='rmsprop') # we need to use an adaptive gradient here due to the size of the system\n",
    "print(model.summary())\n",
    "epochs = 1500 # you will need many epochs for this very small system (see what happens when we scale it back)\n",
    "history = model.fit(X, \n",
    "                    y, \n",
    "                    epochs=epochs,verbose=False)\n",
    "y-model.predict(X) # the errors are rather small"
   ]
  },
  {
   "cell_type": "markdown",
   "metadata": {},
   "source": [
    "## Building Networks in Keras\n",
    "\n",
    "(with exerpts from Jason Brownlee and Mike Irvine)\n",
    "\n",
    "Keras was developed and maintained by François Chollet - a Google engineer - using four guiding principles:\n",
    "\n",
    "* Modularity: A model can be understood as a sequence or a graph alone. All the concerns of a deep learning model are discrete components that can be combined in arbitrary ways.\n",
    "    \n",
    "* Minimalism: The library provides just enough to achieve an outcome, no frills and maximizing readability.\n",
    "    \n",
    "* Extensibility: New components are intentionally easy to add and use within the framework, intended for researchers to trial and explore new ideas.\n",
    "    \n",
    "* Python: No separate model files with custom file formats. Everything is native Python.\n",
    "\n",
    "Because of these extensions and abstractions, Keras is an ideal tool for working with NN at a functional, get-it-done level. Once you need to go down to the formulation level, then you can pick up the Tensorflow.\n",
    "\n",
    "Keras works based on **model** structures. These are abstractions that describe an overall approach to building a neural network. The core model structure is the [**Sequence()**](https://keras.io/models/sequential/), which is a simple, linear stack of layers. This is usually enough complexity for most models. \n",
    "\n",
    "You create a sequence and add layers to it in the order of the computation, just as we do in a hand-drawn graph.\n",
    "\n",
    "Once defined, you compile the model which makes use of the underlying framework to optimize the computation to be performed by your model. In this you can specify the loss function and the optimizer to be used.\n",
    "\n",
    "Once compiled, the model must be .fit() to data. This can be done one batch of data at a time or by firing off the entire model training regime. After fitting you can use your model to make predictions on new data with a simple call to .predict()!. No struggle with inputs and outputs like we do in Tensorflow. This is an interface almost directly equivalent to the Scikit-Learn paradigm.\n",
    "\n",
    "We can summarize the construction of sequential deep learning models in Keras as follows:\n",
    "\n",
    "1.   Define your model. Create a sequence and add layers.\n",
    "2.   Compile your model. Specify loss functions and optimizers.\n",
    "3.   Fit your model. Execute the model using data.\n",
    "4.   Make predictions. Use the model to generate predictions on new data.\n",
    "\n",
    "\n",
    "The other model structure is [**Model()**](https://keras.io/models/model/) - This is the abstract object structure for a neural network that enables highly complex, branching graphical processes. More on this later.\n",
    "\n",
    "Let's do another example in Keras, allowing us to expand more on these paradigms."
   ]
  },
  {
   "cell_type": "markdown",
   "metadata": {},
   "source": [
    "### Classifying the \"double moons\" dataset\n",
    "\n",
    "This is a classic problem, commonly used as a benchmarking tool for new machine learning models. First we will create the dataset using the very standard scikit-learn paradigm:"
   ]
  },
  {
   "cell_type": "code",
   "execution_count": 48,
   "metadata": {},
   "outputs": [
    {
     "name": "stdout",
     "output_type": "stream",
     "text": [
      "Populating the interactive namespace from numpy and matplotlib\n"
     ]
    },
    {
     "data": {
      "image/png": "[encoded data removed]",
      "text/plain": [
       "<matplotlib.figure.Figure at 0x7f591ea04588>"
      ]
     },
     "metadata": {},
     "output_type": "display_data"
    }
   ],
   "source": [
    "%pylab inline\n",
    "from sklearn.datasets import make_moons\n",
    "from sklearn.preprocessing import scale\n",
    "from sklearn.model_selection import train_test_split\n",
    "X, Y = make_moons(noise=0.2, random_state=0, n_samples=1000)\n",
    "X = scale(X)\n",
    "X_train, X_test, Y_train, Y_test = train_test_split(X, Y, test_size=.5)\n",
    "\n",
    "# Next we will plot the moons\n",
    "fig, ax = plt.subplots()\n",
    "ax.scatter(X[Y==0, 0], X[Y==0, 1], label='Class 0')\n",
    "ax.scatter(X[Y==1, 0], X[Y==1, 1], color='r', label='Class 1')\n",
    "ax.legend()\n",
    "ax.set(xlabel='X', ylabel='Y', title='Toy binary classification data set');\n",
    "\n"
   ]
  },
  {
   "cell_type": "markdown",
   "metadata": {},
   "source": [
    "As you can see, this is already a pretty tough problem. Let's build a classifier that will tackle this (note that this is not a **regression** - we're not predicting continuous outputs.) Believe it or not, the simple MLP that we've been working on does a great job with this dataset (one of the original reasons for the excitement surrounding NN). This time we'll only use a single layer of ReLu Neurons to do the feature learning, followed by a prediction layer that uses a sigmoid function:"
   ]
  },
  {
   "cell_type": "code",
   "execution_count": 53,
   "metadata": {},
   "outputs": [
    {
     "name": "stdout",
     "output_type": "stream",
     "text": [
      "Test loss: 0.201\n",
      "Test accuracy: 0.93\n"
     ]
    }
   ],
   "source": [
    "#Create sequential  multi-layer perceptron\n",
    "model = Sequential()\n",
    "\n",
    "model.add(Dense(32, input_dim=2, activation='relu')) #X,Y input dimensions. connecting to 8 neurons with relu activation\n",
    "model.add(Dense(1, activation='sigmoid')) #binary classification so one output\n",
    "\n",
    "model.compile(optimizer='AdaDelta', # We are going to use a different kind of optimizer here\n",
    "              loss='binary_crossentropy',\n",
    "              metrics=['accuracy'])\n",
    "\n",
    "# Here we're going to add a way to log optimization data to Tensorboard\n",
    "tb_callback = keras.callbacks.TensorBoard(log_dir='./Graph/model_1/',\n",
    "                                          histogram_freq=0, write_graph=True,\n",
    "                                          write_images=False)\n",
    "\n",
    "model.fit(X_train, Y_train, batch_size=32, epochs=200,\n",
    "          verbose=0, validation_data=(X_test, Y_test),callbacks=[tb_callback])\n",
    "\n",
    "score = model.evaluate(X_test, Y_test, verbose=0)\n",
    "print('Test loss: {0:.3f}'.format(score[0]))\n",
    "print('Test accuracy: {0:.2f}'.format(score[1]))\n"
   ]
  },
  {
   "cell_type": "markdown",
   "metadata": {},
   "source": [
    "Now let's plot the decision boundary for the model"
   ]
  },
  {
   "cell_type": "code",
   "execution_count": 54,
   "metadata": {
    "scrolled": true
   },
   "outputs": [
    {
     "data": {
      "image/png": "[encoded data removed]",
      "text/plain": [
       "<matplotlib.figure.Figure at 0x7f591e9fd128>"
      ]
     },
     "metadata": {},
     "output_type": "display_data"
    }
   ],
   "source": [
    "grid = np.mgrid[-3:3:100j,-3:3:100j]\n",
    "grid_2d = grid.reshape(2, -1).T\n",
    "X, Y = grid\n",
    "prediction_probs = model.predict_proba(grid_2d, batch_size=32, verbose=0)\n",
    "##plot results\n",
    "fig, ax = plt.subplots(figsize=(10, 6))\n",
    "contour = ax.contourf(X, Y, prediction_probs.reshape(100, 100))\n",
    "ax.scatter(X_test[Y_test==0, 0], X_test[Y_test==0, 1])\n",
    "ax.scatter(X_test[Y_test==1, 0], X_test[Y_test==1, 1], color='r')\n",
    "cbar = plt.colorbar(contour, ax=ax)"
   ]
  },
  {
   "cell_type": "markdown",
   "metadata": {},
   "source": [
    "Let's use tensorboard to get an image of what's going on with this graph. You may need to\n",
    "    \n",
    "    pip install tensorflow-tensorboard\n",
    "    \n",
    "to get it to work. Run:\n",
    "\n",
    "    tensorboard --logdir ./Graph/\n",
    "\n",
    "And the terminal will spawn a browser page (seen from the command line), mine is http://hawkingii:6006/#scalars. Open yours up and enjoy!\n",
    "\n"
   ]
  },
  {
   "cell_type": "markdown",
   "metadata": {},
   "source": [
    "## Review Questions:\n",
    "\n",
    "1. Add more layers to the above model. Make sure to get the dimensions right...Do they help? Why or why not? Make sure to take time to look at your graph. "
   ]
  },
  {
   "cell_type": "code",
   "execution_count": null,
   "metadata": {
    "collapsed": true
   },
   "outputs": [],
   "source": []
  }
 ],
 "metadata": {
  "kernelspec": {
   "display_name": "Python 3",
   "language": "python",
   "name": "python3"
  },
  "language_info": {
   "codemirror_mode": {
    "name": "ipython",
    "version": 3
   },
   "file_extension": ".py",
   "mimetype": "text/x-python",
   "name": "python",
   "nbconvert_exporter": "python",
   "pygments_lexer": "ipython3",
   "version": "3.6.1"
  }
 },
 "nbformat": 4,
 "nbformat_minor": 2
}
