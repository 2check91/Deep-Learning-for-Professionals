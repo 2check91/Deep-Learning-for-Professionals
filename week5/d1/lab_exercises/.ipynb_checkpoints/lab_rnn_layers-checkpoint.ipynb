{
 "cells": [
  {
   "cell_type": "markdown",
   "metadata": {},
   "source": [
    "# Recurrent Neural Network Layers Lab\n",
    "\n",
    "Welcome to the recurrent neural networks layers lab! By the end of this lab you will have\n",
    "\n",
    "- Implemented a RecurrentCell layer\n",
    "- Implemented a Recurrent layer\n",
    "- Gradient-checked both of your layers to ensure they are bug-free\n",
    "\n",
    "Let's get started!\n",
    "\n",
    "---\n",
    "\n",
    "# Layer Interface\n",
    "\n",
    "Recall the interface for a layer."
   ]
  },
  {
   "cell_type": "code",
   "execution_count": 1,
   "metadata": {
    "collapsed": true
   },
   "outputs": [],
   "source": [
    "class Layer:\n",
    "    def forward(self, inputs):\n",
    "        raise NotImplementedError('Forward pass not implemented!')\n",
    "        \n",
    "    def backward(self, dout):\n",
    "        raise NotImplementedError('Backward pass not implemented!')"
   ]
  },
  {
   "cell_type": "markdown",
   "metadata": {},
   "source": [
    "## Task\n",
    "\n",
    "- Implement a recurrent cell layer according to the computational graph\n",
    "\n",
    "![RecurrentCell Layer](images/RecurrentCell%20Layer.png)\n",
    "where $h' = h w_h + x w_x$."
   ]
  },
  {
   "cell_type": "code",
   "execution_count": 2,
   "metadata": {
    "collapsed": true
   },
   "outputs": [],
   "source": []
  },
  {
   "cell_type": "markdown",
   "metadata": {},
   "source": [
    "## Task\n",
    "\n",
    "- Gradient check your recurrent cell\n",
    "\n",
    "## Requirements\n",
    "\n",
    "- Run the following code to gradient check your `RecurrentCell` backpropagation code"
   ]
  },
  {
   "cell_type": "code",
   "execution_count": 2,
   "metadata": {},
   "outputs": [
    {
     "ename": "ModuleNotFoundError",
     "evalue": "No module named 'checking'",
     "output_type": "error",
     "traceback": [
      "\u001b[0;31m---------------------------------------------------------------------------\u001b[0m",
      "\u001b[0;31mModuleNotFoundError\u001b[0m                       Traceback (most recent call last)",
      "\u001b[0;32m<ipython-input-2-a05b5616b0ca>\u001b[0m in \u001b[0;36m<module>\u001b[0;34m()\u001b[0m\n\u001b[1;32m      1\u001b[0m \u001b[0;32mimport\u001b[0m \u001b[0mnumpy\u001b[0m \u001b[0;32mas\u001b[0m \u001b[0mnp\u001b[0m\u001b[0;34m\u001b[0m\u001b[0m\n\u001b[0;32m----> 2\u001b[0;31m \u001b[0;32mfrom\u001b[0m \u001b[0mchecking\u001b[0m \u001b[0;32mimport\u001b[0m \u001b[0mestimate_gradients\u001b[0m\u001b[0;34m\u001b[0m\u001b[0m\n\u001b[0m\u001b[1;32m      3\u001b[0m \u001b[0;34m\u001b[0m\u001b[0m\n\u001b[1;32m      4\u001b[0m \u001b[0mrecurrent\u001b[0m \u001b[0;34m=\u001b[0m \u001b[0mRecurrentCell\u001b[0m\u001b[0;34m(\u001b[0m\u001b[0;34m)\u001b[0m\u001b[0;34m\u001b[0m\u001b[0m\n\u001b[1;32m      5\u001b[0m \u001b[0;32mfor\u001b[0m \u001b[0minput_len\u001b[0m \u001b[0;32min\u001b[0m \u001b[0mnp\u001b[0m\u001b[0;34m.\u001b[0m\u001b[0mrandom\u001b[0m\u001b[0;34m.\u001b[0m\u001b[0mrandint\u001b[0m\u001b[0;34m(\u001b[0m\u001b[0mlow\u001b[0m\u001b[0;34m=\u001b[0m\u001b[0;36m1\u001b[0m\u001b[0;34m,\u001b[0m \u001b[0mhigh\u001b[0m\u001b[0;34m=\u001b[0m\u001b[0;36m10\u001b[0m\u001b[0;34m,\u001b[0m \u001b[0msize\u001b[0m\u001b[0;34m=\u001b[0m\u001b[0;36m10\u001b[0m\u001b[0;34m)\u001b[0m\u001b[0;34m:\u001b[0m\u001b[0;34m\u001b[0m\u001b[0m\n",
      "\u001b[0;31mModuleNotFoundError\u001b[0m: No module named 'checking'"
     ]
    }
   ],
   "source": [
    "import numpy as np\n",
    "from checking import estimate_gradients\n",
    "\n",
    "recurrent = RecurrentCell()\n",
    "for input_len in np.random.randint(low=1, high=10, size=10):\n",
    "    wx, x, wh, h = np.random.randn(4) # random input values\n",
    "    estimated_grads = estimate_gradients(recurrent.forward, # gradient check\n",
    "                                         wrt=['wx', 'wh', 'h'],\n",
    "                                         at={'wx': wx, 'x': x, 'wh': wh, 'h': h})\n",
    "    exact_grads = recurrent.backward(1)\n",
    "    try:\n",
    "        for name, value in zip(['wx', 'wh', 'h'], exact_grads):\n",
    "            estimated_grad = estimated_grads[name]\n",
    "            difference = abs(estimated_grad - value)\n",
    "            assert difference < 1e-3\n",
    "    except AssertionError:\n",
    "        print(f'Gradient failed on {name} with difference {difference}!')"
   ]
  },
  {
   "cell_type": "markdown",
   "metadata": {},
   "source": [
    "## Task\n",
    "\n",
    "- Define a `Recurrent` layer according to the computational graph\n",
    "\n",
    "![Forward Backward Example](images/Recurrent%20Layer.png)"
   ]
  },
  {
   "cell_type": "markdown",
   "metadata": {},
   "source": [
    "where $h_{i+1} = h_i w_h + x_i w_x$ for $i > 1$.\n",
    "\n",
    "## Hint\n",
    "\n",
    "- Use `RecurrentCell` layers in your implementation"
   ]
  },
  {
   "cell_type": "code",
   "execution_count": 4,
   "metadata": {
    "collapsed": true
   },
   "outputs": [],
   "source": []
  },
  {
   "cell_type": "markdown",
   "metadata": {},
   "source": [
    "## Task\n",
    "\n",
    "- Gradient check your `Recurrent` layer\n",
    "\n",
    "## Requirements\n",
    "\n",
    "- Run the following code to gradient check your `Recurrent` backpropagation code"
   ]
  },
  {
   "cell_type": "code",
   "execution_count": 7,
   "metadata": {
    "collapsed": true
   },
   "outputs": [],
   "source": [
    "import numpy as np\n",
    "\n",
    "for input_len in np.random.randint(low=1, high=10, size=10):\n",
    "    # Random input length and input values\n",
    "    recurrent = Recurrent(input_len)\n",
    "    wh, wx = np.random.randn(2)\n",
    "    h0 = np.random.randn()\n",
    "    X = np.random.randn(input_len)\n",
    "\n",
    "    # Gradient check\n",
    "    estimated_grads = estimate_gradients(recurrent.forward,\n",
    "                                         wrt=['wx', 'wh', 'h0'],\n",
    "                                         at={'wx': wx, 'X': X, 'wh': wh, 'h0': h0})\n",
    "    exact_grads = recurrent.backward(1)\n",
    "    try:\n",
    "        for name, value in zip(['wx', 'wh', 'h0'], exact_grads):\n",
    "            estimated_grad = estimated_grads[name]\n",
    "            difference = abs(estimated_grad - value)\n",
    "            assert difference < 1e-3\n",
    "    except AssertionError:\n",
    "        print(f'Gradient failed on {name} with difference {difference}!')"
   ]
  }
 ],
 "metadata": {
  "kernelspec": {
   "display_name": "Python 3",
   "language": "python",
   "name": "python3"
  },
  "language_info": {
   "codemirror_mode": {
    "name": "ipython",
    "version": 3
   },
   "file_extension": ".py",
   "mimetype": "text/x-python",
   "name": "python",
   "nbconvert_exporter": "python",
   "pygments_lexer": "ipython3",
   "version": "3.6.1"
  }
 },
 "nbformat": 4,
 "nbformat_minor": 2
}
