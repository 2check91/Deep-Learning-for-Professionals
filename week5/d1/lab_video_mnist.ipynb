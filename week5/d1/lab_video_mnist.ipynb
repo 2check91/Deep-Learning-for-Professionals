{
 "cells": [
  {
   "cell_type": "markdown",
   "metadata": {
    "deletable": true,
    "editable": true
   },
   "source": [
    "# Recurrent Neural Network Video MNIST Lab\n",
    "\n",
    "By the end of this lab you will have\n",
    "\n",
    "- Defined and trained a recurrent neural network with keras to perform video frame prediction with `batch_size=1`\n",
    "- Defined and trained a recurrent neural network with keras to perform video frame prediction with `batch_size=100`\n",
    "- Evaluated hyperparameters with a validation set\n",
    "- Defined and trained a recurrent neural network with keras to perform **accurate** video frame prediction\n",
    "\n",
    "Let's get started!\n",
    "\n",
    "The mnist video dataset is courtesty of github user [despoisj](https://github.com/despoisj) and his/her [LatentSpaceVisualization]( https://github.com/despoisj/LatentSpaceVisualization) project.\n",
    "\n",
    "---\n",
    "\n",
    "# Load Data\n",
    "\n",
    "The following code loads in the mnist video dataset and displays the first ten samples."
   ]
  },
  {
   "cell_type": "code",
   "execution_count": null,
   "metadata": {
    "collapsed": false,
    "deletable": true,
    "editable": true,
    "scrolled": false
   },
   "outputs": [],
   "source": [
    "from IPython.display import display\n",
    "import pickle\n",
    "\n",
    "[imgs, y] = pickle.load(open('LatentSpaceVisualization/Visuals/mnist_transitions.p', 'rb'))\n",
    "for img, y_ in zip(imgs[:10], y[:10]):\n",
    "    print(y_)\n",
    "    display(img)"
   ]
  },
  {
   "cell_type": "markdown",
   "metadata": {
    "deletable": true,
    "editable": true
   },
   "source": [
    "# Flatten Images\n",
    "\n",
    "The following code resizes each image to `(28, 28)` and normalizes the pixel intensities and converts `y` to a categorical representation."
   ]
  },
  {
   "cell_type": "code",
   "execution_count": null,
   "metadata": {
    "collapsed": false,
    "deletable": true,
    "editable": true
   },
   "outputs": [],
   "source": [
    "import numpy as np\n",
    "from keras.preprocessing.image import img_to_array\n",
    "from keras.utils.np_utils import to_categorical\n",
    "\n",
    "imgs = [img.resize(size=[28, 28]) for img in imgs]\n",
    "X = np.array([img_to_array(img).flatten() for img in imgs]) / 255.\n",
    "Y = to_categorical(y)\n",
    "\n",
    "X.shape, Y.shape"
   ]
  },
  {
   "cell_type": "markdown",
   "metadata": {},
   "source": [
    "# keras RNNs with `batch_size=1`\n",
    "\n",
    "## Question\n",
    "\n",
    "- What shape do you need to convert `X` to to make it compatible a with `SimpleRNN(..., batch_input_shape=[1, 6000, 784])` layer?\n",
    "\n",
    "## Hints\n",
    "\n",
    "- This is the most quick-and-dirty way to make `X` and `Y` compatible with a keras recurrent layer"
   ]
  },
  {
   "cell_type": "code",
   "execution_count": null,
   "metadata": {
    "collapsed": true
   },
   "outputs": [],
   "source": []
  },
  {
   "cell_type": "markdown",
   "metadata": {},
   "source": [
    "## Question\n",
    "\n",
    "- How about `Y`?\n",
    "\n",
    "## Hint\n",
    "\n",
    "- The shape for the transformed `Y` is identical to the shape for the transformed `X` but for one dimension"
   ]
  },
  {
   "cell_type": "code",
   "execution_count": null,
   "metadata": {
    "collapsed": true
   },
   "outputs": [],
   "source": []
  },
  {
   "cell_type": "markdown",
   "metadata": {
    "deletable": true,
    "editable": true
   },
   "source": [
    "## Task\n",
    "\n",
    "- Reshape `X` and `Y` and save them into new variables call `X1` and `Y1` respectively which satisfy the above requirement"
   ]
  },
  {
   "cell_type": "code",
   "execution_count": null,
   "metadata": {
    "collapsed": false,
    "deletable": true,
    "editable": true
   },
   "outputs": [],
   "source": []
  },
  {
   "cell_type": "markdown",
   "metadata": {
    "deletable": true,
    "editable": true
   },
   "source": [
    "## Task\n",
    "\n",
    "- Define a keras RNN model compatible with `X1` and `Y1`\n",
    "\n",
    "## Requirement\n",
    "\n",
    "- You must specify\n",
    "\n",
    "```python\n",
    "SimpleRNN(..., return_sequences=True, batch_input_shape=[1, 6000, 784])\n",
    "```\n",
    "\n",
    "as the first layer in your architecture."
   ]
  },
  {
   "cell_type": "code",
   "execution_count": null,
   "metadata": {
    "collapsed": false,
    "deletable": true,
    "editable": true
   },
   "outputs": [],
   "source": []
  },
  {
   "cell_type": "markdown",
   "metadata": {
    "deletable": true,
    "editable": true
   },
   "source": [
    "## Task\n",
    "\n",
    "- Fit your RNN model on `X1` and `Y1`\n",
    "\n",
    "## Requirement\n",
    "\n",
    "- Fit your model with `model.fit(..., batch_size=1, shuffle=False, epochs=50)`"
   ]
  },
  {
   "cell_type": "code",
   "execution_count": null,
   "metadata": {
    "collapsed": false,
    "deletable": true,
    "editable": true
   },
   "outputs": [],
   "source": []
  },
  {
   "cell_type": "markdown",
   "metadata": {},
   "source": [
    "## Question\n",
    "\n",
    "- List two downsides of using `model.fit(..., batch_size=1)` as opposed to `model.fit(..., batch_size=m)` where $m > 1$."
   ]
  },
  {
   "cell_type": "code",
   "execution_count": null,
   "metadata": {
    "collapsed": true
   },
   "outputs": [],
   "source": []
  },
  {
   "cell_type": "markdown",
   "metadata": {},
   "source": [
    "# keras RNNs with `batch_size=100`\n",
    "\n",
    "## Question\n",
    "\n",
    "- What shape do you need to convert `X` to to make it compatible a with `SimpleRNN(..., batch_input_shape=[100, 6000, 784])` layer?\n",
    "\n",
    "## Constraint\n",
    "\n",
    "- One batch must complete an entire epoch\n",
    "\n",
    "## Hints\n",
    "\n",
    "- A batch size of `100` means we effectively have `100` copies of our RNN each of which are being simulaneously unrolled on their respective portions of the original input sequence\n",
    "- The answer will be of shape `(batch_size, timesteps, 784)`"
   ]
  },
  {
   "cell_type": "code",
   "execution_count": null,
   "metadata": {
    "collapsed": true
   },
   "outputs": [],
   "source": []
  },
  {
   "cell_type": "markdown",
   "metadata": {
    "deletable": true,
    "editable": true
   },
   "source": [
    "## Task\n",
    "\n",
    "- Reshape `X` and `Y` and save them into new variables call `X100` and `Y100` respectively which satisfy the above requirement\n",
    "\n",
    "## Requirements\n",
    "\n",
    "- There must be no overlap between batches (i.e. each image can only appear in a single batch\n",
    "\n",
    "## Hint\n",
    "\n",
    "- The simplest way to achieve this is to split `X` into `100` different chunks with `numpy.split()`"
   ]
  },
  {
   "cell_type": "code",
   "execution_count": null,
   "metadata": {
    "collapsed": true
   },
   "outputs": [],
   "source": []
  },
  {
   "cell_type": "markdown",
   "metadata": {
    "deletable": true,
    "editable": true
   },
   "source": [
    "## Task\n",
    "\n",
    "- Define a RNN model compatible with `X100` and `Y100`\n",
    "\n",
    "## Requirement\n",
    "\n",
    "- You must specify\n",
    "\n",
    "```python\n",
    "SimpleRNN(..., return_sequences=True, batch_input_shape=[100, 60, 784])\n",
    "```\n",
    "\n",
    "as the first layer in your architecture."
   ]
  },
  {
   "cell_type": "code",
   "execution_count": null,
   "metadata": {
    "collapsed": false,
    "deletable": true,
    "editable": true
   },
   "outputs": [],
   "source": []
  },
  {
   "cell_type": "markdown",
   "metadata": {
    "deletable": true,
    "editable": true
   },
   "source": [
    "## Task\n",
    "\n",
    "- Fit Your RNN Model on `X100` and `Y100`\n",
    "\n",
    "## Requirement\n",
    "\n",
    "- Run your model for `model.fit(..., batch_size=100, epochs=50)`"
   ]
  },
  {
   "cell_type": "code",
   "execution_count": null,
   "metadata": {
    "collapsed": false,
    "deletable": true,
    "editable": true,
    "scrolled": true
   },
   "outputs": [],
   "source": []
  },
  {
   "cell_type": "markdown",
   "metadata": {},
   "source": [
    "## Question\n",
    "\n",
    "- Describe the differences you see when optimizing on `(X100, Y100)` as opposed to `(X1, Y1)`."
   ]
  },
  {
   "cell_type": "code",
   "execution_count": null,
   "metadata": {
    "collapsed": true
   },
   "outputs": [],
   "source": []
  },
  {
   "cell_type": "markdown",
   "metadata": {
    "deletable": true,
    "editable": true
   },
   "source": [
    "## Task\n",
    "\n",
    "- Split up `X100` and `Y100` into variables `(X_train50, Y_train50)` and `(X_val50, Y_val50)` and re-fit your model with this validation data\n",
    "\n",
    "## Hints\n",
    "\n",
    "- `X_train50` and `Y_train50` have shape `(50, 60, 784)` and `(50, 60, 10)` respectively. Their validation counterparts follow similarly."
   ]
  },
  {
   "cell_type": "code",
   "execution_count": null,
   "metadata": {
    "collapsed": true,
    "deletable": true,
    "editable": true
   },
   "outputs": [],
   "source": []
  },
  {
   "cell_type": "markdown",
   "metadata": {
    "deletable": true,
    "editable": true
   },
   "source": [
    "## Task\n",
    "\n",
    "- Modify your keras model to make it compatible with `(X_train50, Y_train50)` and `(X_val50, Y_val50)`\n",
    "\n",
    "## Hint\n",
    "\n",
    "- Re-instantiate your model with `SimpleRNN(..., batch_input_shape=[50, 60, 784])`"
   ]
  },
  {
   "cell_type": "code",
   "execution_count": null,
   "metadata": {
    "collapsed": false,
    "deletable": true,
    "editable": true
   },
   "outputs": [],
   "source": []
  },
  {
   "cell_type": "markdown",
   "metadata": {},
   "source": [
    "## Question\n",
    "\n",
    "- Why did we choose `50` for our new batch size?"
   ]
  },
  {
   "cell_type": "code",
   "execution_count": null,
   "metadata": {
    "collapsed": true
   },
   "outputs": [],
   "source": []
  },
  {
   "cell_type": "markdown",
   "metadata": {
    "deletable": true,
    "editable": true
   },
   "source": [
    "## Task\n",
    "\n",
    "- Refit your model with `(X_train50, Y_train50)` and `(X_val50, Y_val50)`\n",
    "\n",
    "## Hint\n",
    "\n",
    "- Make sure to call `model.fit(..., batch_size=50)`"
   ]
  },
  {
   "cell_type": "code",
   "execution_count": null,
   "metadata": {
    "collapsed": false,
    "deletable": true,
    "editable": true,
    "scrolled": true
   },
   "outputs": [],
   "source": []
  },
  {
   "cell_type": "markdown",
   "metadata": {
    "deletable": true,
    "editable": true
   },
   "source": [
    "## Task\n",
    "\n",
    "- Design and optimize a recurrent neural network to maximize validation accuracy on `(X_val50, Y_val50)`\n",
    "\n",
    "## Hints\n",
    "\n",
    "- Stack multiple recurrent layers\n",
    "- Use a convolutional layer between the recurrent layers and the image\n",
    "\n",
    "## Requirement\n",
    "\n",
    "- The only recurrent layer you can use is SimpleRNN"
   ]
  },
  {
   "cell_type": "code",
   "execution_count": null,
   "metadata": {
    "collapsed": true,
    "deletable": true,
    "editable": true
   },
   "outputs": [],
   "source": []
  },
  {
   "cell_type": "markdown",
   "metadata": {
    "deletable": true,
    "editable": true
   },
   "source": [
    "# Bonus Activities\n",
    "\n",
    "- Use more than one batch per epoch with keras stateful RNNs\n",
    "- Use overlapping windows instead of disjoint windows in each batch\n",
    "- Monitor gradients during training with tensorboard"
   ]
  }
 ],
 "metadata": {
  "kernelspec": {
   "display_name": "Python 3",
   "language": "python",
   "name": "python3"
  },
  "language_info": {
   "codemirror_mode": {
    "name": "ipython",
    "version": 3
   },
   "file_extension": ".py",
   "mimetype": "text/x-python",
   "name": "python",
   "nbconvert_exporter": "python",
   "pygments_lexer": "ipython3",
   "version": "3.6.1"
  }
 },
 "nbformat": 4,
 "nbformat_minor": 2
}
