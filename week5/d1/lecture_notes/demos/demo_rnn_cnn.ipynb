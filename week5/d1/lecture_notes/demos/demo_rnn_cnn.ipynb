{
 "cells": [
  {
   "cell_type": "markdown",
   "metadata": {},
   "source": [
    "# Interpretable Recurrent Neural Network Video MNIST Demo\n",
    "\n",
    "Dataset courtesty of github user [despoisj](https://github.com/despoisj) and his/her [LatentSpaceVisualization]( https://github.com/despoisj/LatentSpaceVisualization) project.\n",
    "\n",
    "---\n",
    "\n",
    "# Load Data and Visualize"
   ]
  },
  {
   "cell_type": "code",
   "execution_count": 1,
   "metadata": {
    "scrolled": true
   },
   "outputs": [
    {
     "name": "stdout",
     "output_type": "stream",
     "text": [
      "4\n"
     ]
    },
    {
     "data": {
      "image/png": "[encoded data removed]",
      "text/plain": [
       "<PIL.Image.Image image mode=L size=50x50 at 0x7F6B31B1CC50>"
      ]
     },
     "metadata": {},
     "output_type": "display_data"
    },
    {
     "name": "stdout",
     "output_type": "stream",
     "text": [
      "4\n"
     ]
    },
    {
     "data": {
      "image/png": "[encoded data removed]",
      "text/plain": [
       "<PIL.Image.Image image mode=L size=50x50 at 0x7F6B31B1CD68>"
      ]
     },
     "metadata": {},
     "output_type": "display_data"
    },
    {
     "name": "stdout",
     "output_type": "stream",
     "text": [
      "4\n"
     ]
    },
    {
     "data": {
      "image/png": "[encoded data removed]",
      "text/plain": [
       "<PIL.Image.Image image mode=L size=50x50 at 0x7F6B31B1CDA0>"
      ]
     },
     "metadata": {},
     "output_type": "display_data"
    }
   ],
   "source": [
    "from IPython.display import display\n",
    "import pickle\n",
    "import pandas\n",
    "\n",
    "[imgs, y] = pandas.read_pickle(open('LatentSpaceVisualization/Visuals/mnist_transitions.p', 'rb'))\n",
    "for img, y_ in zip(imgs[:3], y[:3]):\n",
    "    print(y_)\n",
    "    display(img)"
   ]
  },
  {
   "cell_type": "markdown",
   "metadata": {},
   "source": [
    "# Interactive Visualization"
   ]
  },
  {
   "cell_type": "code",
   "execution_count": 2,
   "metadata": {},
   "outputs": [
    {
     "data": {
      "application/vnd.jupyter.widget-view+json": {
       "model_id": "80ae6a372510436e8065218a052164c0"
      }
     },
     "metadata": {},
     "output_type": "display_data"
    }
   ],
   "source": [
    "from ipywidgets import interact, fixed\n",
    "import ipywidgets as widgets\n",
    "\n",
    "# this decorator casts the images into a slider widget - super useful from time to time\n",
    "@interact(imgs=fixed(imgs), y=fixed(y), i=widgets.IntSlider(min=0, max=len(y)-1, step=1))\n",
    "def mnist_video(imgs, y, i):\n",
    "    print(y[i])\n",
    "    return imgs[i].resize(size=[128, 128])"
   ]
  },
  {
   "cell_type": "markdown",
   "metadata": {},
   "source": [
    "# Vectorize Data Points"
   ]
  },
  {
   "cell_type": "code",
   "execution_count": 3,
   "metadata": {},
   "outputs": [
    {
     "name": "stderr",
     "output_type": "stream",
     "text": [
      "Using TensorFlow backend.\n"
     ]
    }
   ],
   "source": [
    "from keras.preprocessing.image import img_to_array\n",
    "import numpy as np\n",
    "\n",
    "X = np.array([img_to_array(img) for img in imgs]) / 255.\n",
    "#X"
   ]
  },
  {
   "cell_type": "markdown",
   "metadata": {},
   "source": [
    "# Split up Into Subsequences"
   ]
  },
  {
   "cell_type": "code",
   "execution_count": 4,
   "metadata": {
    "collapsed": true
   },
   "outputs": [],
   "source": [
    "X_list = np.split(X, indices_or_sections=100)\n",
    "#X_list"
   ]
  },
  {
   "cell_type": "markdown",
   "metadata": {},
   "source": [
    "# Make into Sequential"
   ]
  },
  {
   "cell_type": "code",
   "execution_count": 5,
   "metadata": {
    "collapsed": true
   },
   "outputs": [],
   "source": [
    "X_seq = np.zeros([100, 60, 50, 50, 1])\n",
    "for i, x in enumerate(X_list):\n",
    "    X_seq[i] = x"
   ]
  },
  {
   "cell_type": "markdown",
   "metadata": {},
   "source": [
    "# Define Keras Model"
   ]
  },
  {
   "cell_type": "code",
   "execution_count": null,
   "metadata": {
    "collapsed": true
   },
   "outputs": [],
   "source": []
  },
  {
   "cell_type": "code",
   "execution_count": 6,
   "metadata": {},
   "outputs": [
    {
     "name": "stdout",
     "output_type": "stream",
     "text": [
      "_________________________________________________________________\n",
      "Layer (type)                 Output Shape              Param #   \n",
      "=================================================================\n",
      "time_distributed_1 (TimeDist (None, 60, 48, 48, 32)    320       \n",
      "_________________________________________________________________\n",
      "time_distributed_2 (TimeDist (None, 60, 24, 24, 32)    0         \n",
      "_________________________________________________________________\n",
      "time_distributed_3 (TimeDist (None, 60, 18432)         0         \n",
      "_________________________________________________________________\n",
      "simple_rnn_1 (SimpleRNN)     (None, 60, 10)            184430    \n",
      "=================================================================\n",
      "Total params: 184,750\n",
      "Trainable params: 184,750\n",
      "Non-trainable params: 0\n",
      "_________________________________________________________________\n"
     ]
    }
   ],
   "source": [
    "from keras.models import Sequential\n",
    "from keras.layers import Dense, SimpleRNN, TimeDistributed, Conv2D, MaxPooling2D, Flatten\n",
    "\n",
    "model = Sequential()\n",
    "\n",
    "model.add(TimeDistributed(Conv2D(32, kernel_size=(3, 3), activation='relu'), input_shape=[60, 50, 50, 1]))\n",
    "model.add(TimeDistributed(MaxPooling2D(pool_size=(2, 2))))\n",
    "model.add(TimeDistributed(Flatten()))\n",
    "model.add(SimpleRNN(units=10, return_sequences=True, activation='softmax'))\n",
    "model.compile(optimizer='adam', loss='categorical_crossentropy', metrics=['accuracy'])\n",
    "\n",
    "model.summary()"
   ]
  },
  {
   "cell_type": "markdown",
   "metadata": {},
   "source": [
    "# Prediction"
   ]
  },
  {
   "cell_type": "code",
   "execution_count": 7,
   "metadata": {},
   "outputs": [
    {
     "data": {
      "text/plain": [
       "(1, 60, 10)"
      ]
     },
     "execution_count": 7,
     "metadata": {},
     "output_type": "execute_result"
    }
   ],
   "source": [
    "model.predict(X_seq[:1]).shape"
   ]
  },
  {
   "cell_type": "markdown",
   "metadata": {},
   "source": [
    "# Preprocessing Labels"
   ]
  },
  {
   "cell_type": "code",
   "execution_count": 8,
   "metadata": {
    "collapsed": true
   },
   "outputs": [],
   "source": [
    "from keras.utils.np_utils import to_categorical\n",
    "\n",
    "Y = to_categorical(y)\n",
    "Y_list = np.split(Y, indices_or_sections=100)\n",
    "Y_list\n",
    "\n",
    "Y_seq = np.zeros([100, 60, 10])\n",
    "for i, y_ in enumerate(Y_list):\n",
    "    Y_seq[i] = y_"
   ]
  },
  {
   "cell_type": "markdown",
   "metadata": {},
   "source": [
    "# Define Callback"
   ]
  },
  {
   "cell_type": "code",
   "execution_count": 10,
   "metadata": {
    "collapsed": true
   },
   "outputs": [],
   "source": [
    "from keras.callbacks import Callback\n",
    "\n",
    "class HelloWorld(Callback):\n",
    "    def on_train_begin(self, logs=None):\n",
    "        print('Training has begun')\n",
    "\n",
    "    def on_epoch_end(self, epoch, logs=None):\n",
    "        print('Epoch ended')"
   ]
  },
  {
   "cell_type": "markdown",
   "metadata": {},
   "source": [
    "# Fit the Model"
   ]
  },
  {
   "cell_type": "code",
   "execution_count": 16,
   "metadata": {},
   "outputs": [
    {
     "name": "stdout",
     "output_type": "stream",
     "text": [
      "Train on 80 samples, validate on 20 samples\n",
      "Training has begun\n",
      "Epoch 1/10\n",
      "64/80 [=======================>......] - ETA: 0s - loss: 0.7777 - acc: 0.7380Epoch ended\n",
      "80/80 [==============================] - 3s - loss: 0.7625 - acc: 0.7412 - val_loss: 0.9441 - val_acc: 0.6950\n",
      "Epoch 2/10\n",
      "64/80 [=======================>......] - ETA: 0s - loss: 0.7276 - acc: 0.7547Epoch ended\n",
      "80/80 [==============================] - 3s - loss: 0.7426 - acc: 0.7517 - val_loss: 0.9217 - val_acc: 0.7067\n",
      "Epoch 3/10\n",
      "64/80 [=======================>......] - ETA: 0s - loss: 0.7459 - acc: 0.7521Epoch ended\n",
      "80/80 [==============================] - 3s - loss: 0.7229 - acc: 0.7567 - val_loss: 0.9055 - val_acc: 0.7150\n",
      "Epoch 4/10\n",
      "64/80 [=======================>......] - ETA: 0s - loss: 0.7026 - acc: 0.7589Epoch ended\n",
      "80/80 [==============================] - 4s - loss: 0.7042 - acc: 0.7617 - val_loss: 0.9067 - val_acc: 0.7092\n",
      "Epoch 5/10\n",
      "64/80 [=======================>......] - ETA: 0s - loss: 0.6845 - acc: 0.7724Epoch ended\n",
      "80/80 [==============================] - 3s - loss: 0.6840 - acc: 0.7731 - val_loss: 0.9104 - val_acc: 0.7058\n",
      "Epoch 6/10\n",
      "64/80 [=======================>......] - ETA: 0s - loss: 0.6967 - acc: 0.7682Epoch ended\n",
      "80/80 [==============================] - 3s - loss: 0.6714 - acc: 0.7804 - val_loss: 0.9045 - val_acc: 0.7067\n",
      "Epoch 7/10\n",
      "64/80 [=======================>......] - ETA: 0s - loss: 0.6598 - acc: 0.7862Epoch ended\n",
      "80/80 [==============================] - 3s - loss: 0.6587 - acc: 0.7850 - val_loss: 0.8935 - val_acc: 0.7183\n",
      "Epoch 8/10\n",
      "64/80 [=======================>......] - ETA: 0s - loss: 0.6452 - acc: 0.7865Epoch ended\n",
      "80/80 [==============================] - 3s - loss: 0.6443 - acc: 0.7881 - val_loss: 0.9027 - val_acc: 0.7125\n",
      "Epoch 9/10\n",
      "64/80 [=======================>......] - ETA: 0s - loss: 0.6412 - acc: 0.7927Epoch ended\n",
      "80/80 [==============================] - 3s - loss: 0.6328 - acc: 0.7935 - val_loss: 0.9040 - val_acc: 0.7108\n",
      "Epoch 10/10\n",
      "64/80 [=======================>......] - ETA: 0s - loss: 0.6186 - acc: 0.8003Epoch ended\n",
      "80/80 [==============================] - 4s - loss: 0.6198 - acc: 0.7998 - val_loss: 0.8955 - val_acc: 0.7100\n"
     ]
    }
   ],
   "source": [
    "history = model.fit(X_seq[:100], Y_seq[:100], validation_split=.2, callbacks=[HelloWorld()])"
   ]
  },
  {
   "cell_type": "markdown",
   "metadata": {},
   "source": [
    "# Learning Curves"
   ]
  },
  {
   "cell_type": "code",
   "execution_count": 17,
   "metadata": {},
   "outputs": [
    {
     "data": {
      "text/plain": [
       "<matplotlib.axes._subplots.AxesSubplot at 0x7f6acd748c50>"
      ]
     },
     "execution_count": 17,
     "metadata": {},
     "output_type": "execute_result"
    },
    {
     "data": {
      "image/png": "[encoded data removed]",
      "text/plain": [
       "<matplotlib.figure.Figure at 0x7f6b1bff7ac8>"
      ]
     },
     "metadata": {},
     "output_type": "display_data"
    }
   ],
   "source": [
    "import pandas as pd\n",
    "%matplotlib inline\n",
    "\n",
    "pd.DataFrame(history.history).plot()"
   ]
  },
  {
   "cell_type": "code",
   "execution_count": 18,
   "metadata": {},
   "outputs": [
    {
     "name": "stdout",
     "output_type": "stream",
     "text": [
      "100/100 [==============================] - 1s     \n"
     ]
    },
    {
     "data": {
      "text/plain": [
       "[0.66791848659515385, 0.7844999837875366]"
      ]
     },
     "execution_count": 18,
     "metadata": {},
     "output_type": "execute_result"
    }
   ],
   "source": [
    "model.evaluate(X_seq, Y_seq)"
   ]
  },
  {
   "cell_type": "code",
   "execution_count": null,
   "metadata": {
    "collapsed": true
   },
   "outputs": [],
   "source": []
  }
 ],
 "metadata": {
  "kernelspec": {
   "display_name": "Python 3",
   "language": "python",
   "name": "python3"
  },
  "language_info": {
   "codemirror_mode": {
    "name": "ipython",
    "version": 3
   },
   "file_extension": ".py",
   "mimetype": "text/x-python",
   "name": "python",
   "nbconvert_exporter": "python",
   "pygments_lexer": "ipython3",
   "version": "3.6.1"
  }
 },
 "nbformat": 4,
 "nbformat_minor": 2
}
