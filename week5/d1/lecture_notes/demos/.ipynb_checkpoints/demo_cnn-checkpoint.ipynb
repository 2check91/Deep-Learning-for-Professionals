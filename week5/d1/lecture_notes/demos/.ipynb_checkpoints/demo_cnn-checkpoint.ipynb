{
 "cells": [
  {
   "cell_type": "markdown",
   "metadata": {},
   "source": [
    "# Interpretable Recurrent Neural Network Video MNIST Demo\n",
    "\n",
    "Dataset courtesty of github user [despoisj](https://github.com/despoisj) and his/her [LatentSpaceVisualization]( https://github.com/despoisj/LatentSpaceVisualization) project.\n",
    "\n",
    "---\n",
    "\n",
    "# Load Data and Visualize"
   ]
  },
  {
   "cell_type": "code",
   "execution_count": 1,
   "metadata": {
    "scrolled": true
   },
   "outputs": [
    {
     "name": "stdout",
     "output_type": "stream",
     "text": [
      "4\n"
     ]
    },
    {
     "data": {
      "image/png": "[encoded data removed]",
      "text/plain": [
       "<PIL.Image.Image image mode=L size=50x50 at 0x7FF0ABA23048>"
      ]
     },
     "metadata": {},
     "output_type": "display_data"
    },
    {
     "name": "stdout",
     "output_type": "stream",
     "text": [
      "4\n"
     ]
    },
    {
     "data": {
      "image/png": "[encoded data removed]",
      "text/plain": [
       "<PIL.Image.Image image mode=L size=50x50 at 0x7FF0776CDC88>"
      ]
     },
     "metadata": {},
     "output_type": "display_data"
    },
    {
     "name": "stdout",
     "output_type": "stream",
     "text": [
      "4\n"
     ]
    },
    {
     "data": {
      "image/png": "[encoded data removed]",
      "text/plain": [
       "<PIL.Image.Image image mode=L size=50x50 at 0x7FF0776CDD68>"
      ]
     },
     "metadata": {},
     "output_type": "display_data"
    },
    {
     "name": "stdout",
     "output_type": "stream",
     "text": [
      "7\n"
     ]
    },
    {
     "data": {
      "image/png": "[encoded data removed]",
      "text/plain": [
       "<PIL.Image.Image image mode=L size=50x50 at 0x7FF0776CDDA0>"
      ]
     },
     "metadata": {},
     "output_type": "display_data"
    },
    {
     "name": "stdout",
     "output_type": "stream",
     "text": [
      "7\n"
     ]
    },
    {
     "data": {
      "image/png": "[encoded data removed]",
      "text/plain": [
       "<PIL.Image.Image image mode=L size=50x50 at 0x7FF0776CDDD8>"
      ]
     },
     "metadata": {},
     "output_type": "display_data"
    }
   ],
   "source": [
    "from IPython.display import display\n",
    "import pickle\n",
    "import pandas\n",
    "\n",
    "[imgs, y] = pandas.read_pickle(open('LatentSpaceVisualization/Visuals/mnist_transitions.p', 'rb'))\n",
    "for img, y_ in zip(imgs[:5], y[:5]):\n",
    "    print(y_)\n",
    "    display(img)"
   ]
  },
  {
   "cell_type": "markdown",
   "metadata": {},
   "source": [
    "# Interactive Visualization"
   ]
  },
  {
   "cell_type": "code",
   "execution_count": 2,
   "metadata": {},
   "outputs": [
    {
     "data": {
      "application/vnd.jupyter.widget-view+json": {
       "model_id": "68258244c9694eaf95e7cb8c67b6337b"
      }
     },
     "metadata": {},
     "output_type": "display_data"
    }
   ],
   "source": [
    "from ipywidgets import interact, fixed\n",
    "import ipywidgets as widgets\n",
    "\n",
    "@interact(imgs=fixed(imgs), y=fixed(y), i=widgets.IntSlider(min=0, max=len(y)-1, step=1))\n",
    "def mnist_video(imgs, y, i):\n",
    "    print(y[i])\n",
    "    return imgs[i].resize(size=[128, 128])"
   ]
  },
  {
   "cell_type": "markdown",
   "metadata": {},
   "source": [
    "# Vectorize Data Points"
   ]
  },
  {
   "cell_type": "code",
   "execution_count": null,
   "metadata": {},
   "outputs": [
    {
     "name": "stderr",
     "output_type": "stream",
     "text": [
      "Using TensorFlow backend.\n"
     ]
    }
   ],
   "source": [
    "from keras.preprocessing.image import img_to_array\n",
    "import numpy as np\n",
    "\n",
    "X = np.array([img_to_array(img) for img in imgs]) / 255.\n",
    "#X"
   ]
  },
  {
   "cell_type": "markdown",
   "metadata": {},
   "source": [
    "# Define Keras Model"
   ]
  },
  {
   "cell_type": "code",
   "execution_count": 14,
   "metadata": {},
   "outputs": [
    {
     "name": "stdout",
     "output_type": "stream",
     "text": [
      "_________________________________________________________________\n",
      "Layer (type)                 Output Shape              Param #   \n",
      "=================================================================\n",
      "conv2d_13 (Conv2D)           (None, 48, 48, 32)        320       \n",
      "_________________________________________________________________\n",
      "max_pooling2d_6 (MaxPooling2 (None, 24, 24, 32)        0         \n",
      "_________________________________________________________________\n",
      "flatten_4 (Flatten)          (None, 18432)             0         \n",
      "_________________________________________________________________\n",
      "dense_2 (Dense)              (None, 10)                184330    \n",
      "=================================================================\n",
      "Total params: 184,650.0\n",
      "Trainable params: 184,650.0\n",
      "Non-trainable params: 0.0\n",
      "_________________________________________________________________\n"
     ]
    }
   ],
   "source": [
    "from keras.models import Sequential\n",
    "from keras.layers import Conv2D, MaxPooling2D, Flatten, Dense\n",
    "\n",
    "model = Sequential()\n",
    "model.add(Conv2D(32, kernel_size=(3, 3), activation='relu', input_shape=[50, 50, 1]))\n",
    "model.add(MaxPooling2D(pool_size=(2, 2)))\n",
    "model.add(Flatten())\n",
    "model.add(Dense(units=10, activation='softmax'))\n",
    "model.compile(optimizer='adam', loss='categorical_crossentropy', metrics=['accuracy'])\n",
    "\n",
    "model.summary()"
   ]
  },
  {
   "cell_type": "markdown",
   "metadata": {},
   "source": [
    "# Prediction"
   ]
  },
  {
   "cell_type": "code",
   "execution_count": 15,
   "metadata": {},
   "outputs": [
    {
     "data": {
      "text/plain": [
       "array([[ 0.09981438,  0.09962413,  0.10352285,  0.10325498,  0.09444845,\n",
       "         0.10047401,  0.09616445,  0.10044241,  0.0961673 ,  0.10608703]], dtype=float32)"
      ]
     },
     "execution_count": 15,
     "metadata": {},
     "output_type": "execute_result"
    }
   ],
   "source": [
    "model.predict(X[:1])"
   ]
  },
  {
   "cell_type": "markdown",
   "metadata": {},
   "source": [
    "# Preprocessing Labels"
   ]
  },
  {
   "cell_type": "code",
   "execution_count": 16,
   "metadata": {},
   "outputs": [
    {
     "data": {
      "text/plain": [
       "array([[ 0.,  0.,  0., ...,  0.,  0.,  0.],\n",
       "       [ 0.,  0.,  0., ...,  0.,  0.,  0.],\n",
       "       [ 0.,  0.,  0., ...,  0.,  0.,  0.],\n",
       "       ..., \n",
       "       [ 1.,  0.,  0., ...,  0.,  0.,  0.],\n",
       "       [ 1.,  0.,  0., ...,  0.,  0.,  0.],\n",
       "       [ 1.,  0.,  0., ...,  0.,  0.,  0.]])"
      ]
     },
     "execution_count": 16,
     "metadata": {},
     "output_type": "execute_result"
    }
   ],
   "source": [
    "from keras.utils.np_utils import to_categorical\n",
    "\n",
    "Y = to_categorical(y)\n",
    "Y"
   ]
  },
  {
   "cell_type": "markdown",
   "metadata": {},
   "source": [
    "# Define Callback"
   ]
  },
  {
   "cell_type": "code",
   "execution_count": 17,
   "metadata": {
    "collapsed": true
   },
   "outputs": [],
   "source": [
    "from keras.callbacks import Callback\n",
    "\n",
    "class HelloWorld(Callback):\n",
    "    def on_train_begin(self, logs=None):\n",
    "        print('Training has begun')\n",
    "\n",
    "    def on_epoch_end(self, epoch, logs=None):\n",
    "        print('Epoch ended')"
   ]
  },
  {
   "cell_type": "markdown",
   "metadata": {},
   "source": [
    "# Fit the Model"
   ]
  },
  {
   "cell_type": "code",
   "execution_count": 19,
   "metadata": {},
   "outputs": [
    {
     "name": "stdout",
     "output_type": "stream",
     "text": [
      "Train on 5400 samples, validate on 600 samples\n",
      "Training has begun\n",
      "Epoch 1/10\n",
      "5376/5400 [============================>.] - ETA: 0s - loss: 0.9515 - acc: 0.6936Epoch ended\n",
      "5400/5400 [==============================] - 11s - loss: 0.9504 - acc: 0.6939 - val_loss: 0.8772 - val_acc: 0.7317\n",
      "Epoch 2/10\n",
      "5376/5400 [============================>.] - ETA: 0s - loss: 0.6413 - acc: 0.7885 -Epoch ended\n",
      "5400/5400 [==============================] - 14s - loss: 0.6409 - acc: 0.7885 - val_loss: 0.8269 - val_acc: 0.7317\n",
      "Epoch 3/10\n",
      "5376/5400 [============================>.] - ETA: 0s - loss: 0.5388 - acc: 0.8138Epoch ended\n",
      "5400/5400 [==============================] - 12s - loss: 0.5379 - acc: 0.8137 - val_loss: 0.8839 - val_acc: 0.7200\n",
      "Epoch 4/10\n",
      "5376/5400 [============================>.] - ETA: 0s - loss: 0.4622 - acc: 0.84438 ETA: 10s - loss: 0.4782 - acc: 0. - ETA: 10s - loss: 0.4735 - ETA: 10s - loss:  - ETA: 10s - loss: 0.4595 - acc: Epoch ended\n",
      "5400/5400 [==============================] - 13s - loss: 0.4631 - acc: 0.8439 - val_loss: 0.7018 - val_acc: 0.7850\n",
      "Epoch 5/10\n",
      "5376/5400 [============================>.] - ETA: 0s - loss: 0.3929 - acc: 0.8648Epoch ended\n",
      "5400/5400 [==============================] - 14s - loss: 0.3928 - acc: 0.8650 - val_loss: 0.7823 - val_acc: 0.7567\n",
      "Epoch 6/10\n",
      "5376/5400 [============================>.] - ETA: 0s - loss: 0.3524 - acc: 0.8791Epoch ended\n",
      "5400/5400 [==============================] - 12s - loss: 0.3527 - acc: 0.8791 - val_loss: 0.7369 - val_acc: 0.7700\n",
      "Epoch 7/10\n",
      "5376/5400 [============================>.] - ETA: 0s - loss: 0.3107 - acc: 0.8919- ETA: 1s - Epoch ended\n",
      "5400/5400 [==============================] - 11s - loss: 0.3105 - acc: 0.8920 - val_loss: 0.7602 - val_acc: 0.7550\n",
      "Epoch 8/10\n",
      "5376/5400 [============================>.] - ETA: 0s - loss: 0.2821 - acc: 0.9038Epoch ended\n",
      "5400/5400 [==============================] - 10s - loss: 0.2817 - acc: 0.9041 - val_loss: 0.7720 - val_acc: 0.7650\n",
      "Epoch 9/10\n",
      "5376/5400 [============================>.] - ETA: 0s - loss: 0.2674 - acc: 0.9061Epoch ended\n",
      "5400/5400 [==============================] - 10s - loss: 0.2672 - acc: 0.9059 - val_loss: 0.7735 - val_acc: 0.7700\n",
      "Epoch 10/10\n",
      "5376/5400 [============================>.] - ETA: 0s - loss: 0.2426 - acc: 0.9131Epoch ended\n",
      "5400/5400 [==============================] - 11s - loss: 0.2419 - acc: 0.9135 - val_loss: 0.7479 - val_acc: 0.7683\n"
     ]
    }
   ],
   "source": [
    "history = model.fit(X, Y, validation_split=.1, callbacks=[HelloWorld()])"
   ]
  },
  {
   "cell_type": "markdown",
   "metadata": {},
   "source": [
    "# Learning Curves"
   ]
  },
  {
   "cell_type": "code",
   "execution_count": 20,
   "metadata": {},
   "outputs": [
    {
     "data": {
      "text/plain": [
       "<matplotlib.axes._subplots.AxesSubplot at 0x117603400>"
      ]
     },
     "execution_count": 20,
     "metadata": {},
     "output_type": "execute_result"
    },
    {
     "data": {
      "image/png": "[encoded data removed]",
      "text/plain": [
       "<matplotlib.figure.Figure at 0x117571978>"
      ]
     },
     "metadata": {},
     "output_type": "display_data"
    }
   ],
   "source": [
    "import pandas as pd\n",
    "%matplotlib inline\n",
    "\n",
    "pd.DataFrame(history.history).plot()"
   ]
  },
  {
   "cell_type": "code",
   "execution_count": 22,
   "metadata": {},
   "outputs": [
    {
     "name": "stdout",
     "output_type": "stream",
     "text": [
      "5984/6000 [============================>.] - ETA: 0s"
     ]
    },
    {
     "data": {
      "text/plain": [
       "[0.26060509866476061, 0.91533333333333333]"
      ]
     },
     "execution_count": 22,
     "metadata": {},
     "output_type": "execute_result"
    }
   ],
   "source": [
    "model.evaluate(X, Y)"
   ]
  }
 ],
 "metadata": {
  "kernelspec": {
   "display_name": "Python 3",
   "language": "python",
   "name": "python3"
  },
  "language_info": {
   "codemirror_mode": {
    "name": "ipython",
    "version": 3
   },
   "file_extension": ".py",
   "mimetype": "text/x-python",
   "name": "python",
   "nbconvert_exporter": "python",
   "pygments_lexer": "ipython3",
   "version": "3.6.1"
  }
 },
 "nbformat": 4,
 "nbformat_minor": 2
}
