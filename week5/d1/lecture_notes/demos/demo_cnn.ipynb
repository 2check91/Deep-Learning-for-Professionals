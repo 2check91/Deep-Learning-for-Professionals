{
 "cells": [
  {
   "cell_type": "markdown",
   "metadata": {},
   "source": [
    "# Interpretable Recurrent Neural Network Video MNIST Demo\n",
    "\n",
    "Dataset courtesty of github user [despoisj](https://github.com/despoisj) and his/her [LatentSpaceVisualization]( https://github.com/despoisj/LatentSpaceVisualization) project.\n",
    "\n",
    "---\n",
    "\n",
    "# Load Data and Visualize"
   ]
  },
  {
   "cell_type": "code",
   "execution_count": 1,
   "metadata": {
    "scrolled": true
   },
   "outputs": [
    {
     "name": "stdout",
     "output_type": "stream",
     "text": [
      "4\n"
     ]
    },
    {
     "data": {
      "image/png": "[encoded data removed]",
      "text/plain": [
       "<PIL.Image.Image image mode=L size=50x50 at 0x7FF0ABA23048>"
      ]
     },
     "metadata": {},
     "output_type": "display_data"
    },
    {
     "name": "stdout",
     "output_type": "stream",
     "text": [
      "4\n"
     ]
    },
    {
     "data": {
      "image/png": "[encoded data removed]",
      "text/plain": [
       "<PIL.Image.Image image mode=L size=50x50 at 0x7FF0776CDC88>"
      ]
     },
     "metadata": {},
     "output_type": "display_data"
    },
    {
     "name": "stdout",
     "output_type": "stream",
     "text": [
      "4\n"
     ]
    },
    {
     "data": {
      "image/png": "[encoded data removed]",
      "text/plain": [
       "<PIL.Image.Image image mode=L size=50x50 at 0x7FF0776CDD68>"
      ]
     },
     "metadata": {},
     "output_type": "display_data"
    },
    {
     "name": "stdout",
     "output_type": "stream",
     "text": [
      "7\n"
     ]
    },
    {
     "data": {
      "image/png": "[encoded data removed]",
      "text/plain": [
       "<PIL.Image.Image image mode=L size=50x50 at 0x7FF0776CDDA0>"
      ]
     },
     "metadata": {},
     "output_type": "display_data"
    },
    {
     "name": "stdout",
     "output_type": "stream",
     "text": [
      "7\n"
     ]
    },
    {
     "data": {
      "image/png": "[encoded data removed]",
      "text/plain": [
       "<PIL.Image.Image image mode=L size=50x50 at 0x7FF0776CDDD8>"
      ]
     },
     "metadata": {},
     "output_type": "display_data"
    }
   ],
   "source": [
    "from IPython.display import display\n",
    "import pickle\n",
    "import pandas\n",
    "\n",
    "[imgs, y] = pandas.read_pickle(open('LatentSpaceVisualization/Visuals/mnist_transitions.p', 'rb'))\n",
    "for img, y_ in zip(imgs[:5], y[:5]):\n",
    "    print(y_)\n",
    "    display(img)"
   ]
  },
  {
   "cell_type": "markdown",
   "metadata": {},
   "source": [
    "# Interactive Visualization"
   ]
  },
  {
   "cell_type": "code",
   "execution_count": 2,
   "metadata": {},
   "outputs": [
    {
     "data": {
      "application/vnd.jupyter.widget-view+json": {
       "model_id": "68258244c9694eaf95e7cb8c67b6337b"
      }
     },
     "metadata": {},
     "output_type": "display_data"
    }
   ],
   "source": [
    "from ipywidgets import interact, fixed\n",
    "import ipywidgets as widgets\n",
    "\n",
    "@interact(imgs=fixed(imgs), y=fixed(y), i=widgets.IntSlider(min=0, max=len(y)-1, step=1))\n",
    "def mnist_video(imgs, y, i):\n",
    "    print(y[i])\n",
    "    return imgs[i].resize(size=[128, 128])"
   ]
  },
  {
   "cell_type": "markdown",
   "metadata": {},
   "source": [
    "# Vectorize Data Points"
   ]
  },
  {
   "cell_type": "code",
   "execution_count": 3,
   "metadata": {},
   "outputs": [
    {
     "name": "stderr",
     "output_type": "stream",
     "text": [
      "Using TensorFlow backend.\n"
     ]
    }
   ],
   "source": [
    "from keras.preprocessing.image import img_to_array\n",
    "import numpy as np\n",
    "\n",
    "X = np.array([img_to_array(img) for img in imgs]) / 255.\n",
    "#X"
   ]
  },
  {
   "cell_type": "markdown",
   "metadata": {},
   "source": [
    "# Define Keras Model"
   ]
  },
  {
   "cell_type": "code",
   "execution_count": 4,
   "metadata": {},
   "outputs": [
    {
     "name": "stdout",
     "output_type": "stream",
     "text": [
      "_________________________________________________________________\n",
      "Layer (type)                 Output Shape              Param #   \n",
      "=================================================================\n",
      "conv2d_1 (Conv2D)            (None, 48, 48, 32)        320       \n",
      "_________________________________________________________________\n",
      "max_pooling2d_1 (MaxPooling2 (None, 24, 24, 32)        0         \n",
      "_________________________________________________________________\n",
      "flatten_1 (Flatten)          (None, 18432)             0         \n",
      "_________________________________________________________________\n",
      "dense_1 (Dense)              (None, 10)                184330    \n",
      "=================================================================\n",
      "Total params: 184,650\n",
      "Trainable params: 184,650\n",
      "Non-trainable params: 0\n",
      "_________________________________________________________________\n"
     ]
    }
   ],
   "source": [
    "from keras.models import Sequential\n",
    "from keras.layers import Conv2D, MaxPooling2D, Flatten, Dense\n",
    "\n",
    "model = Sequential()\n",
    "model.add(Conv2D(32, kernel_size=(3, 3), activation='relu', input_shape=[50, 50, 1]))\n",
    "model.add(MaxPooling2D(pool_size=(2, 2)))\n",
    "model.add(Flatten())\n",
    "model.add(Dense(units=10, activation='softmax'))\n",
    "model.compile(optimizer='adam', loss='categorical_crossentropy', metrics=['accuracy'])\n",
    "\n",
    "model.summary()"
   ]
  },
  {
   "cell_type": "markdown",
   "metadata": {},
   "source": [
    "# Prediction"
   ]
  },
  {
   "cell_type": "code",
   "execution_count": 5,
   "metadata": {},
   "outputs": [
    {
     "data": {
      "text/plain": [
       "array([[ 0.10227104,  0.09045028,  0.09651736,  0.09716552,  0.11310714,\n",
       "         0.0922304 ,  0.0996783 ,  0.10810869,  0.09361213,  0.10685914]], dtype=float32)"
      ]
     },
     "execution_count": 5,
     "metadata": {},
     "output_type": "execute_result"
    }
   ],
   "source": [
    "model.predict(X[:1])"
   ]
  },
  {
   "cell_type": "markdown",
   "metadata": {},
   "source": [
    "# Preprocessing Labels"
   ]
  },
  {
   "cell_type": "code",
   "execution_count": 6,
   "metadata": {},
   "outputs": [],
   "source": [
    "from keras.utils.np_utils import to_categorical\n",
    "\n",
    "Y = to_categorical(y)\n",
    "#Y"
   ]
  },
  {
   "cell_type": "markdown",
   "metadata": {},
   "source": [
    "## Define Callback"
   ]
  },
  {
   "cell_type": "code",
   "execution_count": 7,
   "metadata": {
    "collapsed": true
   },
   "outputs": [],
   "source": [
    "from keras.callbacks import Callback\n",
    "\n",
    "class HelloWorld(Callback):\n",
    "    def on_train_begin(self, logs=None):\n",
    "        print('Training has begun')\n",
    "\n",
    "    def on_epoch_end(self, epoch, logs=None):\n",
    "        print('Epoch ended')"
   ]
  },
  {
   "cell_type": "markdown",
   "metadata": {},
   "source": [
    "# Fit the Model"
   ]
  },
  {
   "cell_type": "code",
   "execution_count": 8,
   "metadata": {},
   "outputs": [
    {
     "name": "stdout",
     "output_type": "stream",
     "text": [
      "Train on 5400 samples, validate on 600 samples\n",
      "Training has begun\n",
      "Epoch 1/10\n",
      "5376/5400 [============================>.] - ETA: 0s - loss: 0.9321 - acc: 0.6933Epoch ended\n",
      "5400/5400 [==============================] - 5s - loss: 0.9304 - acc: 0.6933 - val_loss: 0.9469 - val_acc: 0.7183\n",
      "Epoch 2/10\n",
      "5344/5400 [============================>.] - ETA: 0s - loss: 0.6398 - acc: 0.7872Epoch ended\n",
      "5400/5400 [==============================] - 5s - loss: 0.6384 - acc: 0.7878 - val_loss: 0.8488 - val_acc: 0.7250\n",
      "Epoch 3/10\n",
      "5376/5400 [============================>.] - ETA: 0s - loss: 0.5366 - acc: 0.8211Epoch ended\n",
      "5400/5400 [==============================] - 5s - loss: 0.5369 - acc: 0.8207 - val_loss: 0.8256 - val_acc: 0.7417\n",
      "Epoch 4/10\n",
      "5376/5400 [============================>.] - ETA: 0s - loss: 0.4576 - acc: 0.8458Epoch ended\n",
      "5400/5400 [==============================] - 5s - loss: 0.4570 - acc: 0.8459 - val_loss: 0.8326 - val_acc: 0.7383\n",
      "Epoch 5/10\n",
      "5376/5400 [============================>.] - ETA: 0s - loss: 0.3888 - acc: 0.8698Epoch ended\n",
      "5400/5400 [==============================] - 5s - loss: 0.3898 - acc: 0.8693 - val_loss: 0.7782 - val_acc: 0.7567\n",
      "Epoch 6/10\n",
      "5344/5400 [============================>.] - ETA: 0s - loss: 0.3437 - acc: 0.8840Epoch ended\n",
      "5400/5400 [==============================] - 5s - loss: 0.3433 - acc: 0.8843 - val_loss: 0.7179 - val_acc: 0.7650\n",
      "Epoch 7/10\n",
      "5376/5400 [============================>.] - ETA: 0s - loss: 0.3033 - acc: 0.8973Epoch ended\n",
      "5400/5400 [==============================] - 5s - loss: 0.3036 - acc: 0.8969 - val_loss: 0.7814 - val_acc: 0.7450\n",
      "Epoch 8/10\n",
      "5376/5400 [============================>.] - ETA: 0s - loss: 0.2820 - acc: 0.8999Epoch ended\n",
      "5400/5400 [==============================] - 5s - loss: 0.2823 - acc: 0.8994 - val_loss: 0.8431 - val_acc: 0.7517\n",
      "Epoch 9/10\n",
      "5344/5400 [============================>.] - ETA: 0s - loss: 0.2561 - acc: 0.9135Epoch ended\n",
      "5400/5400 [==============================] - 5s - loss: 0.2558 - acc: 0.9135 - val_loss: 0.8151 - val_acc: 0.7733\n",
      "Epoch 10/10\n",
      "5376/5400 [============================>.] - ETA: 0s - loss: 0.2365 - acc: 0.9193Epoch ended\n",
      "5400/5400 [==============================] - 6s - loss: 0.2360 - acc: 0.9196 - val_loss: 0.8450 - val_acc: 0.7633\n"
     ]
    }
   ],
   "source": [
    "history = model.fit(X, Y, validation_split=.1, callbacks=[HelloWorld()])"
   ]
  },
  {
   "cell_type": "markdown",
   "metadata": {},
   "source": [
    "# Learning Curves"
   ]
  },
  {
   "cell_type": "code",
   "execution_count": 9,
   "metadata": {},
   "outputs": [
    {
     "data": {
      "text/plain": [
       "<matplotlib.axes._subplots.AxesSubplot at 0x7ff02baefc18>"
      ]
     },
     "execution_count": 9,
     "metadata": {},
     "output_type": "execute_result"
    },
    {
     "data": {
      "image/png": "[encoded data removed]",
      "text/plain": [
       "<matplotlib.figure.Figure at 0x7ff02baef1d0>"
      ]
     },
     "metadata": {},
     "output_type": "display_data"
    }
   ],
   "source": [
    "import pandas as pd\n",
    "%matplotlib inline\n",
    "\n",
    "pd.DataFrame(history.history).plot()"
   ]
  },
  {
   "cell_type": "code",
   "execution_count": 22,
   "metadata": {},
   "outputs": [
    {
     "name": "stdout",
     "output_type": "stream",
     "text": [
      "5984/6000 [============================>.] - ETA: 0s"
     ]
    },
    {
     "data": {
      "text/plain": [
       "[0.26060509866476061, 0.91533333333333333]"
      ]
     },
     "execution_count": 22,
     "metadata": {},
     "output_type": "execute_result"
    }
   ],
   "source": [
    "model.evaluate(X, Y)"
   ]
  }
 ],
 "metadata": {
  "kernelspec": {
   "display_name": "Python 3",
   "language": "python",
   "name": "python3"
  },
  "language_info": {
   "codemirror_mode": {
    "name": "ipython",
    "version": 3
   },
   "file_extension": ".py",
   "mimetype": "text/x-python",
   "name": "python",
   "nbconvert_exporter": "python",
   "pygments_lexer": "ipython3",
   "version": "3.6.1"
  }
 },
 "nbformat": 4,
 "nbformat_minor": 2
}
