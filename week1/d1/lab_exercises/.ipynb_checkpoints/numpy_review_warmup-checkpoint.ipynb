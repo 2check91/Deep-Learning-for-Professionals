{
 "cells": [
  {
   "cell_type": "markdown",
   "metadata": {},
   "source": [
    "#  Using Numpy for Building ANN - Matrix and Tensor Manipulations\n",
    "Resources for numpy\n",
    "http://www.scipy-lectures.org/intro/numpy/numpy.html\n",
    "\n",
    "Writeup on affine functions: http://cfsv.synechism.org/c1/sec15.pdf\n",
    "\n",
    "Notes: Above chapter gives great intro to index slicing, broadcasting, etc.  Dimension shuffling\n"
   ]
  },
  {
   "cell_type": "markdown",
   "metadata": {},
   "source": [
    "# Building Simple Neural Nets\n",
    "\n",
    "##  Include course outline\n",
    "\n",
    "##  Objectives for Today\n",
    "1.  Learn about numpy for doing vector and matrix manipulations - tensorflow is analogous to numpy matrix/tensors\n"
   ]
  },
  {
   "cell_type": "markdown",
   "metadata": {},
   "source": [
    "## Using numpy for building neural nets\n",
    "\n",
    "Numpy is an extension of python.  Numpy is designed to handle matrix manipulations in ways that are easy to code and which are optimized to execute rapidly.  The following code compares execution time for squaring a list of 1000 numbers to the time for squaring a numpy array of 1000 numbers.  As you can see from the results, the numpy array is more than an order of magnitude faster.  \n"
   ]
  },
  {
   "cell_type": "code",
   "execution_count": 1,
   "metadata": {},
   "outputs": [
    {
     "name": "stdout",
     "output_type": "stream",
     "text": [
      "10000 loops, best of 3: 58.8 µs per loop\n"
     ]
    }
   ],
   "source": [
    "l = range(1000)\n",
    "%timeit [i ** 2 for i in l]"
   ]
  },
  {
   "cell_type": "code",
   "execution_count": 2,
   "metadata": {},
   "outputs": [
    {
     "name": "stdout",
     "output_type": "stream",
     "text": [
      "The slowest run took 13.47 times longer than the fastest. This could mean that an intermediate result is being cached.\n",
      "1000000 loops, best of 3: 1.46 µs per loop\n"
     ]
    }
   ],
   "source": [
    "import numpy as np\n",
    "a = np.arange(1000)\n",
    "%timeit a ** 2"
   ]
  },
  {
   "cell_type": "markdown",
   "metadata": {
    "collapsed": true
   },
   "source": [
    "## Intro to numpy\n",
    "This material is excerpted from http://www.scipy-lectures.org/intro/numpy/numpy.html.  That gives an excellent summary and is worth scanning through.  \n",
    "\n",
    "### Reference documentation  \n",
    "On the web: http://docs.scipy.org/  \n",
    "Interactive help:"
   ]
  },
  {
   "cell_type": "code",
   "execution_count": 3,
   "metadata": {},
   "outputs": [
    {
     "name": "stdout",
     "output_type": "stream",
     "text": [
      "Help on built-in function array in module numpy.core.multiarray:\n",
      "\n",
      "array(...)\n",
      "    array(object, dtype=None, copy=True, order=None, subok=False, ndmin=0)\n",
      "    \n",
      "    Create an array.\n",
      "    \n",
      "    Parameters\n",
      "    ----------\n",
      "    object : array_like\n",
      "        An array, any object exposing the array interface, an\n",
      "        object whose __array__ method returns an array, or any\n",
      "        (nested) sequence.\n",
      "    dtype : data-type, optional\n",
      "        The desired data-type for the array.  If not given, then\n",
      "        the type will be determined as the minimum type required\n",
      "        to hold the objects in the sequence.  This argument can only\n",
      "        be used to 'upcast' the array.  For downcasting, use the\n",
      "        .astype(t) method.\n",
      "    copy : bool, optional\n",
      "        If true (default), then the object is copied.  Otherwise, a copy\n",
      "        will only be made if __array__ returns a copy, if obj is a\n",
      "        nested sequence, or if a copy is needed to satisfy any of the other\n",
      "        requirements (`dtype`, `order`, etc.).\n",
      "    order : {'C', 'F', 'A'}, optional\n",
      "        Specify the order of the array.  If order is 'C', then the array\n",
      "        will be in C-contiguous order (last-index varies the fastest).\n",
      "        If order is 'F', then the returned array will be in\n",
      "        Fortran-contiguous order (first-index varies the fastest).\n",
      "        If order is 'A' (default), then the returned array may be\n",
      "        in any order (either C-, Fortran-contiguous, or even discontiguous),\n",
      "        unless a copy is required, in which case it will be C-contiguous.\n",
      "    subok : bool, optional\n",
      "        If True, then sub-classes will be passed-through, otherwise\n",
      "        the returned array will be forced to be a base-class array (default).\n",
      "    ndmin : int, optional\n",
      "        Specifies the minimum number of dimensions that the resulting\n",
      "        array should have.  Ones will be pre-pended to the shape as\n",
      "        needed to meet this requirement.\n",
      "    \n",
      "    Returns\n",
      "    -------\n",
      "    out : ndarray\n",
      "        An array object satisfying the specified requirements.\n",
      "    \n",
      "    See Also\n",
      "    --------\n",
      "    empty, empty_like, zeros, zeros_like, ones, ones_like, fill\n",
      "    \n",
      "    Examples\n",
      "    --------\n",
      "    >>> np.array([1, 2, 3])\n",
      "    array([1, 2, 3])\n",
      "    \n",
      "    Upcasting:\n",
      "    \n",
      "    >>> np.array([1, 2, 3.0])\n",
      "    array([ 1.,  2.,  3.])\n",
      "    \n",
      "    More than one dimension:\n",
      "    \n",
      "    >>> np.array([[1, 2], [3, 4]])\n",
      "    array([[1, 2],\n",
      "           [3, 4]])\n",
      "    \n",
      "    Minimum dimensions 2:\n",
      "    \n",
      "    >>> np.array([1, 2, 3], ndmin=2)\n",
      "    array([[1, 2, 3]])\n",
      "    \n",
      "    Type provided:\n",
      "    \n",
      "    >>> np.array([1, 2, 3], dtype=complex)\n",
      "    array([ 1.+0.j,  2.+0.j,  3.+0.j])\n",
      "    \n",
      "    Data-type consisting of more than one element:\n",
      "    \n",
      "    >>> x = np.array([(1,2),(3,4)],dtype=[('a','<i4'),('b','<i4')])\n",
      "    >>> x['a']\n",
      "    array([1, 3])\n",
      "    \n",
      "    Creating an array from sub-classes:\n",
      "    \n",
      "    >>> np.array(np.mat('1 2; 3 4'))\n",
      "    array([[1, 2],\n",
      "           [3, 4]])\n",
      "    \n",
      "    >>> np.array(np.mat('1 2; 3 4'), subok=True)\n",
      "    matrix([[1, 2],\n",
      "            [3, 4]])\n",
      "\n"
     ]
    }
   ],
   "source": [
    "help(np.array)"
   ]
  },
  {
   "cell_type": "markdown",
   "metadata": {},
   "source": [
    "Looking for something:"
   ]
  },
  {
   "cell_type": "code",
   "execution_count": 4,
   "metadata": {},
   "outputs": [
    {
     "name": "stdout",
     "output_type": "stream",
     "text": [
      "Search results for 'create array'\n",
      "---------------------------------\n",
      "numpy.array\n",
      "    Create an array.\n",
      "numpy.memmap\n",
      "    Create a memory-map to an array stored in a *binary* file on disk.\n",
      "numpy.diagflat\n",
      "    Create a two-dimensional array with the flattened input as a diagonal.\n",
      "numpy.fromiter\n",
      "    Create a new 1-dimensional array from an iterable object.\n",
      "numpy.partition\n",
      "    Return a partitioned copy of an array.\n",
      "numpy.ma.diagflat\n",
      "    Create a two-dimensional array with the flattened input as a diagonal.\n",
      "numpy.ctypeslib.as_array\n",
      "    Create a numpy array from a ctypes array or a ctypes POINTER.\n",
      "numpy.ma.make_mask\n",
      "    Create a boolean mask from an array.\n",
      "numpy.ctypeslib.as_ctypes\n",
      "    Create and return a ctypes object from a numpy array.  Actually\n",
      "numpy.ma.mrecords.fromarrays\n",
      "    Creates a mrecarray from a (flat) list of masked arrays.\n",
      "numpy.lib.format.open_memmap\n",
      "    Open a .npy file as a memory-mapped array.\n",
      "numpy.ma.MaskedArray.__new__\n",
      "    Create a new masked array from scratch.\n",
      "numpy.lib.arrayterator.Arrayterator\n",
      "    Buffered iterator for big arrays.\n",
      "numpy.ma.mrecords.fromtextfile\n",
      "    Creates a mrecarray from data stored in the file `filename`.\n",
      "numpy.asarray\n",
      "    Convert the input to an array.\n",
      "numpy.ndarray\n",
      "    ndarray(shape, dtype=float, buffer=None, offset=0,\n",
      "numpy.recarray\n",
      "    Construct an ndarray that allows field access using attributes.\n",
      "numpy.chararray\n",
      "    chararray(shape, itemsize=1, unicode=False, buffer=None, offset=0,\n",
      "numpy.pad\n",
      "    Pads an array.\n",
      "numpy.sum\n",
      "    Sum of array elements over a given axis.\n",
      "numpy.asanyarray\n",
      "    Convert the input to an ndarray, but pass ndarray subclasses through.\n",
      "numpy.copy\n",
      "    Return an array copy of the given object.\n",
      "numpy.diag\n",
      "    Extract a diagonal or construct a diagonal array.\n",
      "numpy.load\n",
      "    Load arrays or pickled objects from ``.npy``, ``.npz`` or pickled files.\n",
      "numpy.sort\n",
      "    Return a sorted copy of an array.\n",
      "numpy.array_equiv\n",
      "    Returns True if input arrays are shape consistent and all elements equal.\n",
      "numpy.dtype\n",
      "    Create a data type object.\n",
      "numpy.choose\n",
      "    Construct an array from an index array and a set of arrays to choose from.\n",
      "numpy.nditer\n",
      "    Efficient multi-dimensional iterator object to iterate over arrays.\n",
      "numpy.swapaxes\n",
      "    Interchange two axes of an array.\n",
      "numpy.full_like\n",
      "    Return a full array with the same shape and type as a given array.\n",
      "numpy.ones_like\n",
      "    Return an array of ones with the same shape and type as a given array.\n",
      "numpy.empty_like\n",
      "    Return a new array with the same shape and type as a given array.\n",
      "numpy.zeros_like\n",
      "    Return an array of zeros with the same shape and type as a given array.\n",
      "numpy.asarray_chkfinite\n",
      "    Convert the input to an array, checking for NaNs or Infs.\n",
      "numpy.diag_indices\n",
      "    Return the indices to access the main diagonal of an array.\n",
      "numpy.ma.choose\n",
      "    Use an index array to construct a new array from a set of choices.\n",
      "numpy.chararray.tolist\n",
      "    a.tolist()\n",
      "numpy.matlib.rand\n",
      "    Return a matrix of random values with given shape.\n",
      "numpy.savez_compressed\n",
      "    Save several arrays into a single file in compressed ``.npz`` format.\n",
      "numpy.ma.empty_like\n",
      "    Return a new array with the same shape and type as a given array.\n",
      "numpy.ma.make_mask_none\n",
      "    Return a boolean mask of the given shape, filled with False.\n",
      "numpy.ma.mrecords.fromrecords\n",
      "    Creates a MaskedRecords from a list of records.\n",
      "numpy.around\n",
      "    Evenly round to the given number of decimals.\n",
      "numpy.source\n",
      "    Print or write to a file the source code for a Numpy object.\n",
      "numpy.diagonal\n",
      "    Return specified diagonals.\n",
      "numpy.histogram2d\n",
      "    Compute the bi-dimensional histogram of two data samples.\n",
      "numpy.fft.ifft\n",
      "    Compute the one-dimensional inverse discrete Fourier Transform.\n",
      "numpy.fft.ifftn\n",
      "    Compute the N-dimensional inverse discrete Fourier Transform.\n",
      "numpy.busdaycalendar\n",
      "    A business day calendar object that efficiently stores information"
     ]
    }
   ],
   "source": [
    "np.lookfor('create array')"
   ]
  },
  {
   "cell_type": "code",
   "execution_count": 5,
   "metadata": {},
   "outputs": [
    {
     "name": "stdout",
     "output_type": "stream",
     "text": [
      "Help on function lookfor in module numpy.lib.utils:\n",
      "\n",
      "lookfor(what, module=None, import_modules=True, regenerate=False, output=None)\n",
      "    Do a keyword search on docstrings.\n",
      "    \n",
      "    A list of of objects that matched the search is displayed,\n",
      "    sorted by relevance. All given keywords need to be found in the\n",
      "    docstring for it to be returned as a result, but the order does\n",
      "    not matter.\n",
      "    \n",
      "    Parameters\n",
      "    ----------\n",
      "    what : str\n",
      "        String containing words to look for.\n",
      "    module : str or list, optional\n",
      "        Name of module(s) whose docstrings to go through.\n",
      "    import_modules : bool, optional\n",
      "        Whether to import sub-modules in packages. Default is True.\n",
      "    regenerate : bool, optional\n",
      "        Whether to re-generate the docstring cache. Default is False.\n",
      "    output : file-like, optional\n",
      "        File-like object to write the output to. If omitted, use a pager.\n",
      "    \n",
      "    See Also\n",
      "    --------\n",
      "    source, info\n",
      "    \n",
      "    Notes\n",
      "    -----\n",
      "    Relevance is determined only roughly, by checking if the keywords occur\n",
      "    in the function name, at the start of a docstring, etc.\n",
      "    \n",
      "    Examples\n",
      "    --------\n",
      "    >>> np.lookfor('binary representation')\n",
      "    Search results for 'binary representation'\n",
      "    ------------------------------------------\n",
      "    numpy.binary_repr\n",
      "        Return the binary representation of the input number as a string.\n",
      "    numpy.core.setup_common.long_double_representation\n",
      "        Given a binary dump as given by GNU od -b, look for long double\n",
      "    numpy.base_repr\n",
      "        Return a string representation of a number in the given base system.\n",
      "    ...\n",
      "\n"
     ]
    }
   ],
   "source": [
    "help(np.lookfor)"
   ]
  },
  {
   "cell_type": "markdown",
   "metadata": {},
   "source": [
    "## Creating Arrays"
   ]
  },
  {
   "cell_type": "code",
   "execution_count": 6,
   "metadata": {},
   "outputs": [
    {
     "name": "stdout",
     "output_type": "stream",
     "text": [
      "('a ', array([0, 1, 2, 3]))\n",
      "('a.ndim ', 1)\n",
      "('a.shape ', (4L,))\n",
      "('len(a) ', 4)\n"
     ]
    }
   ],
   "source": [
    "#1-D Arrays\n",
    "a = np.array([0, 1, 2, 3])\n",
    "print('a ', a)\n",
    "print('a.ndim ', a.ndim) # not a column nor row vector, just a vector\n",
    "print('a.shape ', a.shape)\n",
    "print('len(a) ', len(a))"
   ]
  },
  {
   "cell_type": "code",
   "execution_count": 7,
   "metadata": {},
   "outputs": [
    {
     "name": "stdout",
     "output_type": "stream",
     "text": [
      "('b ', array([[0, 1, 2],\n",
      "       [3, 4, 5]]))\n",
      "('b.ndim ', 2)\n",
      "('b.shape ', (2L, 3L))\n",
      "('len(b) ', 2)\n",
      "()\n",
      "('c ', array([[[1],\n",
      "        [2]],\n",
      "\n",
      "       [[3],\n",
      "        [4]]]))\n",
      "('c.shape ', (2L, 2L, 1L))\n"
     ]
    }
   ],
   "source": [
    "#2-D and 3-D arrays\n",
    "b = np.array([[0, 1, 2], [3, 4, 5]])    # 2 x 3 array\n",
    "print('b ', b)\n",
    "print('b.ndim ', b.ndim)\n",
    "print('b.shape ', b.shape)\n",
    "print('len(b) ', len(b))     # returns the size of the first dimension\n",
    "print()\n",
    "\n",
    "c = np.array([[[1], [2]], [[3], [4]]])\n",
    "print('c ', c)\n",
    "print('c.shape ', c.shape)"
   ]
  },
  {
   "cell_type": "code",
   "execution_count": 8,
   "metadata": {},
   "outputs": [
    {
     "name": "stdout",
     "output_type": "stream",
     "text": [
      "('np.arange(10) ', array([0, 1, 2, 3, 4, 5, 6, 7, 8, 9]))\n",
      "('np.array(range(10)) ', array([0, 1, 2, 3, 4, 5, 6, 7, 8, 9]))\n",
      "('np.linspace(0.0, 3.0, 7)', array([ 0. ,  0.6,  1.2,  1.8,  2.4,  3. ]))\n"
     ]
    }
   ],
   "source": [
    "#Systematic ways to generate arrays\n",
    "#from arange (or range)\n",
    "print('np.arange(10) ', np.arange(10))\n",
    "print('np.array(range(10)) ', np.array(range(10)))\n",
    "\n",
    "#Evenly spaced points - notice that both ends are included in number of points\n",
    "print('np.linspace(0.0, 3.0, 7)', np.linspace(0.0, 3.0, 6)) #(start, end, num_points)"
   ]
  },
  {
   "cell_type": "code",
   "execution_count": 9,
   "metadata": {},
   "outputs": [
    {
     "name": "stdout",
     "output_type": "stream",
     "text": [
      "('a ', array([[ 1.,  1.,  1.],\n",
      "       [ 1.,  1.,  1.],\n",
      "       [ 1.,  1.,  1.]]))\n",
      "('b ', array([[ 0.,  0.],\n",
      "       [ 0.,  0.]]))\n",
      "('c ', array([[ 1.,  0.,  0.],\n",
      "       [ 0.,  1.,  0.],\n",
      "       [ 0.,  0.,  1.]]))\n",
      "('d ', array([[1, 0, 0, 0],\n",
      "       [0, 2, 0, 0],\n",
      "       [0, 0, 3, 0],\n",
      "       [0, 0, 0, 4]]))\n"
     ]
    }
   ],
   "source": [
    "#Common arrays\n",
    "a = np.ones((3, 3))  # reminder: (3, 3) is a tuple\n",
    "print('a ', a)\n",
    "b = np.zeros((2,2))\n",
    "print('b ', b)\n",
    "c = np.eye(3)\n",
    "print('c ', c)\n",
    "d = np.diag(np.arange(1, 5))\n",
    "print('d ', d)"
   ]
  },
  {
   "cell_type": "code",
   "execution_count": 10,
   "metadata": {},
   "outputs": [
    {
     "name": "stdout",
     "output_type": "stream",
     "text": [
      "('a ', array([ 0.0173549 ,  0.33759695,  0.84751174,  0.92305194]))\n",
      "('b ', array([ 0.20203725,  0.87405781,  1.45858625, -0.10480701]))\n",
      "('c ', array([-0.35007788, -1.88988095,  0.04356146, -0.95138197]))\n"
     ]
    }
   ],
   "source": [
    "#Generating random arrays and matrices - you'll use this a lot for weight initialization\n",
    "a = np.random.rand(4)       # uniform in [0, 1]\n",
    "print('a ', a)\n",
    "\n",
    "b = np.random.randn(4)      # Gaussian\n",
    "print('b ', b)\n",
    "\n",
    "c = np.random.randn(4) \n",
    "print('c ', c)\n",
    "\n",
    "np.random.seed(1234)        # Setting the random seed to get repeatible random numbers"
   ]
  },
  {
   "cell_type": "markdown",
   "metadata": {},
   "source": [
    "## Data types\n",
    "Data types are more important in neural net calculations than in many other areas.  With neural nets data types can have a dramatic effect on the computation time.  Computations with float32 are much faster than with float64.  That's particularly true if you're doing calculations on a gpu.  In some cases gpu only supports float32.  "
   ]
  },
  {
   "cell_type": "code",
   "execution_count": 11,
   "metadata": {},
   "outputs": [
    {
     "name": "stdout",
     "output_type": "stream",
     "text": [
      "int32\n",
      "float64\n"
     ]
    }
   ],
   "source": [
    "# with neural nets you need to pay attention to data types\n",
    "# float64 is much more expensive to calculate than float32\n",
    "a = np.array([1, 2, 3])\n",
    "print(a.dtype)\n",
    "\n",
    "b = np.array([1., 2., 3.])\n",
    "print(b.dtype)"
   ]
  },
  {
   "cell_type": "code",
   "execution_count": 12,
   "metadata": {},
   "outputs": [
    {
     "name": "stdout",
     "output_type": "stream",
     "text": [
      "int32\n",
      "The slowest run took 12.74 times longer than the fastest. This could mean that an intermediate result is being cached.\n",
      "1000000 loops, best of 3: 1.57 µs per loop\n",
      "float32\n",
      "The slowest run took 20.72 times longer than the fastest. This could mean that an intermediate result is being cached.\n",
      "1000000 loops, best of 3: 803 ns per loop\n",
      "float64\n",
      "The slowest run took 12.94 times longer than the fastest. This could mean that an intermediate result is being cached.\n",
      "1000000 loops, best of 3: 923 ns per loop\n"
     ]
    }
   ],
   "source": [
    "# here's a timing comparison.  The difference is even more pronounced for gpu calculations\n",
    "import numpy as np\n",
    "\n",
    "a = np.arange(1000, dtype='uint8')\n",
    "print('int32')\n",
    "%timeit a * a\n",
    "\n",
    "a = np.arange(1000, dtype='float32')\n",
    "print('float32')\n",
    "%timeit a * a\n",
    "\n",
    "a = np.arange(1000, dtype='float64')\n",
    "print('float64')\n",
    "%timeit a * a"
   ]
  },
  {
   "cell_type": "markdown",
   "metadata": {},
   "source": [
    "## Plotting"
   ]
  },
  {
   "cell_type": "code",
   "execution_count": 13,
   "metadata": {},
   "outputs": [
    {
     "data": {
      "image/png": "[encoded data removed]",
      "text/plain": [
       "<matplotlib.figure.Figure at 0x7c70f60>"
      ]
     },
     "metadata": {},
     "output_type": "display_data"
    }
   ],
   "source": [
    "import matplotlib.pyplot as plt\n",
    "%matplotlib inline\n",
    "x = np.linspace(0, 3, 20)\n",
    "y = np.linspace(0, 9, 20)\n",
    "plt.plot(x, y)       # line plot\n",
    "plt.plot(x, y, 'o')  # dot plot\n",
    "plt.show()           # <-- shows the plot (not needed with Ipython)"
   ]
  },
  {
   "cell_type": "code",
   "execution_count": 14,
   "metadata": {},
   "outputs": [
    {
     "data": {
      "image/png": "[encoded data removed]",
      "text/plain": [
       "<matplotlib.figure.Figure at 0x62af438>"
      ]
     },
     "metadata": {},
     "output_type": "display_data"
    }
   ],
   "source": [
    "#plotting 2-D arrays (such as images)\n",
    "image = np.random.rand(30, 30)\n",
    "#possible colormaps autumn, bone, cool, copper flag gray hot hsv jet pink \n",
    "#prism spring summer winter \n",
    "plt.imshow(image, cmap=plt.cm.hsv)\n",
    "plt.colorbar()\n",
    "plt.show()"
   ]
  },
  {
   "cell_type": "markdown",
   "metadata": {},
   "source": [
    "## Index slicing"
   ]
  },
  {
   "cell_type": "code",
   "execution_count": 15,
   "metadata": {},
   "outputs": [
    {
     "name": "stdout",
     "output_type": "stream",
     "text": [
      "[0 1 2 3 4 5 6 7 8 9]\n",
      "(0, 2, 9)\n",
      "[[0 0 0]\n",
      " [0 1 0]\n",
      " [0 0 2]]\n",
      "1\n",
      "[[ 0  0  0]\n",
      " [ 0  1  0]\n",
      " [ 0 10  2]]\n",
      "[0 1 0]\n"
     ]
    }
   ],
   "source": [
    "#Here are some illustrative examples\n",
    "a = np.arange(10)\n",
    "print(a)\n",
    "print(a[0], a[2], a[-1])\n",
    "\n",
    "\n",
    "#Slicing\n",
    "a = np.diag(np.arange(3))\n",
    "print(a)\n",
    "\n",
    "print(a[1, 1])\n",
    "\n",
    "a[2, 1] = 10 # third line, second column\n",
    "print(a)\n",
    "\n",
    "print(a[1])"
   ]
  },
  {
   "cell_type": "markdown",
   "metadata": {},
   "source": [
    "## Q\n",
    "In the example above, the index a[1] prints the second (index 1) row from the matrix a.  How could you extract the second column?"
   ]
  },
  {
   "cell_type": "markdown",
   "metadata": {},
   "source": [
    "Here's a nice illustration for index slicing.  It comes from scipy documentation http://www.scipy-lectures.org/intro/numpy/numpy.html\n",
    "<img src=\"numpy_indexing.png\">"
   ]
  },
  {
   "cell_type": "markdown",
   "metadata": {
    "collapsed": true
   },
   "source": [
    "## Copies and views\n",
    "A slicing operation creates a view on the original array, which is just a way of accessing array data. Thus the original array is not copied in memory.\n",
    "\n",
    "When modifying the view, the original array is modified as well:"
   ]
  },
  {
   "cell_type": "code",
   "execution_count": 16,
   "metadata": {},
   "outputs": [
    {
     "name": "stdout",
     "output_type": "stream",
     "text": [
      "[0 1 2 3 4 5 6 7 8 9]\n",
      "[0 2 4 6 8]\n",
      "[12  2  4  6  8]\n",
      "[12  1  2  3  4  5  6  7  8  9]\n",
      "[12  2  4  6  8]\n",
      "[0 1 2 3 4 5 6 7 8 9]\n"
     ]
    }
   ],
   "source": [
    "a = np.arange(10)\n",
    "print(a)    #array([0, 1, 2, 3, 4, 5, 6, 7, 8, 9])\n",
    "b = a[::2]\n",
    "print(b)    #array([0, 2, 4, 6, 8])\n",
    "b[0] = 12\n",
    "print(b)    #array([12,  2,  4,  6,  8])\n",
    "print(a)    # array([12,  1,  2,  3,  4,  5,  6,  7,  8,  9])\n",
    "\n",
    "#if you want to make changes in b without affecting a\n",
    "a = np.arange(10)\n",
    "b = a[::2].copy()  # force a copy\n",
    "b[0] = 12\n",
    "print(b) \n",
    "print(a)"
   ]
  },
  {
   "cell_type": "code",
   "execution_count": 17,
   "metadata": {},
   "outputs": [
    {
     "data": {
      "text/plain": [
       "array([[ 2.,  2.,  2., ...,  2.,  2.,  2.],\n",
       "       [ 2.,  2.,  2., ...,  2.,  2.,  2.],\n",
       "       [ 2.,  2.,  2., ...,  2.,  2.,  2.],\n",
       "       ..., \n",
       "       [ 3.,  3.,  3., ...,  2.,  2.,  2.],\n",
       "       [ 3.,  3.,  3., ...,  2.,  2.,  2.],\n",
       "       [ 3.,  3.,  3., ...,  2.,  2.,  2.]])"
      ]
     },
     "execution_count": 17,
     "metadata": {},
     "output_type": "execute_result"
    }
   ],
   "source": [
    "a = np.ones((100,100))\n",
    "a += a.T\n",
    "a"
   ]
  },
  {
   "cell_type": "markdown",
   "metadata": {},
   "source": [
    "## Indexing with masks\n",
    "Numpy arrays can be indexed with slices, but also with boolean or integer arrays (masks). This method is called fancy indexing. It creates copies not view."
   ]
  },
  {
   "cell_type": "code",
   "execution_count": 18,
   "metadata": {},
   "outputs": [
    {
     "name": "stdout",
     "output_type": "stream",
     "text": [
      "[10  3  8  0 19 10 11  9 10  6  0 20 12  7 14]\n",
      "[False  True False  True False False False  True False  True  True False\n",
      "  True False False]\n",
      "[ 3  0  9  6  0 12]\n"
     ]
    }
   ],
   "source": [
    "np.random.seed(3)\n",
    "a = np.random.random_integers(0, 20, 15)\n",
    "print(a)   #array([10,  3,  8,  0, 19, 10, 11,  9, 10,  6,  0, 20, 12,  7, 14])\n",
    "print(a % 3 == 0)  #array of trues and falses\n",
    "\n",
    "#define a mask\n",
    "mask = (a % 3 == 0)\n",
    "extract_from_a = a[mask] # or,  a[a%3==0]\n",
    "print(extract_from_a)           # extract a sub-array of %3 == 0 with the mask "
   ]
  },
  {
   "cell_type": "code",
   "execution_count": 19,
   "metadata": {},
   "outputs": [
    {
     "name": "stdout",
     "output_type": "stream",
     "text": [
      "[10 -1  8 -1 19 10 11 -1 10 -1 -1 20 -1  7 14]\n"
     ]
    }
   ],
   "source": [
    "#Indexing with a mask can be very useful to assign a new value to a sub-array:  \n",
    "a[a % 3 == 0] = -1\n",
    "print(a)"
   ]
  },
  {
   "cell_type": "markdown",
   "metadata": {},
   "source": [
    "## Indexing with an Array of Integers"
   ]
  },
  {
   "cell_type": "code",
   "execution_count": 20,
   "metadata": {},
   "outputs": [
    {
     "name": "stdout",
     "output_type": "stream",
     "text": [
      "[ 3  1  5  3  7  5  9  7 11  9]\n",
      "[ 5  5  1 11]\n"
     ]
    }
   ],
   "source": [
    "a = np.arange(10)\n",
    "a[::2] += 3 # to avoid having always the same np.arange(10)\n",
    "print(a)    #array([ 3,  1,  5,  3,  7,  5,  9,  7, 11,  9])\n",
    "print(a[[2, 5, 1, 8]]) # or, a[np.array([2, 5, 1, 8])]  #array([ 5,  5,  1, 11])"
   ]
  },
  {
   "cell_type": "markdown",
   "metadata": {},
   "source": [
    "When a new array is created by indexing with an array of integers, the new array has the same shape than the array of integers:"
   ]
  },
  {
   "cell_type": "code",
   "execution_count": 21,
   "metadata": {},
   "outputs": [
    {
     "name": "stdout",
     "output_type": "stream",
     "text": [
      "[[13 14]\n",
      " [19 17]]\n"
     ]
    }
   ],
   "source": [
    "a = np.arange(10, 20)\n",
    "idx = np.array([[3, 4], [9, 7]])\n",
    "print(a[idx])"
   ]
  },
  {
   "cell_type": "markdown",
   "metadata": {},
   "source": [
    "## Numerical operations on arrays\n",
    "Element wise operations"
   ]
  },
  {
   "cell_type": "code",
   "execution_count": 22,
   "metadata": {},
   "outputs": [
    {
     "name": "stdout",
     "output_type": "stream",
     "text": [
      "[1 2 3 4 5]\n",
      "[ 0  1  4  9 16]\n"
     ]
    }
   ],
   "source": [
    "a = np.arange(5)\n",
    "print(a + 1)\n",
    "print(a ** 2)"
   ]
  },
  {
   "cell_type": "code",
   "execution_count": 23,
   "metadata": {},
   "outputs": [
    {
     "name": "stdout",
     "output_type": "stream",
     "text": [
      "[[ 0.  1.  2.]\n",
      " [ 3.  4.  5.]\n",
      " [ 6.  7.  8.]]\n",
      "[[ 3.  3.  3.]\n",
      " [ 3.  3.  3.]\n",
      " [ 3.  3.  3.]]\n",
      "[[ 1.  2.  3.]\n",
      " [ 4.  5.  6.]\n",
      " [ 7.  8.  9.]]\n"
     ]
    }
   ],
   "source": [
    "a = np.ones((3,3))\n",
    "b = np.arange(9).reshape((3,3))\n",
    "print(a * b)  #notice that this isn't matrix multiplication\n",
    "print(a.dot(a))  #this is matrix multiplication\n",
    "print(a + b)"
   ]
  },
  {
   "cell_type": "markdown",
   "metadata": {},
   "source": [
    "## Reductions\n",
    "Computing sums:"
   ]
  },
  {
   "cell_type": "code",
   "execution_count": 24,
   "metadata": {},
   "outputs": [
    {
     "name": "stdout",
     "output_type": "stream",
     "text": [
      "10\n"
     ]
    }
   ],
   "source": [
    "x = np.array([1, 2, 3, 4])\n",
    "print(x.sum())"
   ]
  },
  {
   "cell_type": "code",
   "execution_count": 25,
   "metadata": {},
   "outputs": [
    {
     "name": "stdout",
     "output_type": "stream",
     "text": [
      "[3 3]\n",
      "[2 4]\n"
     ]
    }
   ],
   "source": [
    "#Sum by rows and by columns:\n",
    "x = np.array([[1,1],[2,2]])\n",
    "print(x.sum(axis=0))\n",
    "print(x.sum(axis=1))"
   ]
  },
  {
   "cell_type": "code",
   "execution_count": 26,
   "metadata": {},
   "outputs": [
    {
     "name": "stdout",
     "output_type": "stream",
     "text": [
      "(3L, 2L, 2L)\n"
     ]
    }
   ],
   "source": [
    "x = np.array([[[1,1],[1,1]], [[2,2],[2,2]], [[3,3], [3,3]]])\n",
    "print(x.shape)  #imagine this as 3-d rectangle h, w, d = 3, 2, 2"
   ]
  },
  {
   "cell_type": "code",
   "execution_count": 27,
   "metadata": {},
   "outputs": [
    {
     "name": "stdout",
     "output_type": "stream",
     "text": [
      "[[6 6]\n",
      " [6 6]]\n",
      "[[2 2]\n",
      " [4 4]\n",
      " [6 6]]\n",
      "[[2 2]\n",
      " [4 4]\n",
      " [6 6]]\n"
     ]
    }
   ],
   "source": [
    "print(x.sum(axis=0))\n",
    "print(x.sum(axis=1))\n",
    "print(x.sum(axis=2))"
   ]
  },
  {
   "cell_type": "markdown",
   "metadata": {},
   "source": [
    "Other reductions - stats, extrema and logical comparisons"
   ]
  },
  {
   "cell_type": "code",
   "execution_count": 28,
   "metadata": {},
   "outputs": [
    {
     "name": "stdout",
     "output_type": "stream",
     "text": [
      "5.5\n",
      "5.5\n",
      "3.45205252953\n",
      "[ 0  5 11  3  9  4  7  2  6  1 10  8]\n",
      "(11, 2, 0, 0)\n"
     ]
    }
   ],
   "source": [
    "x = np.arange(12)\n",
    "print(x.mean())      #mean of array\n",
    "print(np.median(x))    #median\n",
    "print(x.std())       #standard deviation\n",
    "\n",
    "np.random.shuffle(x)\n",
    "print(x)\n",
    "print (x.max(), x.argmax(), x.min(), x.argmin())"
   ]
  },
  {
   "cell_type": "code",
   "execution_count": 29,
   "metadata": {},
   "outputs": [
    {
     "name": "stdout",
     "output_type": "stream",
     "text": [
      "[False False  True False  True False  True False  True False  True  True]\n",
      "True\n",
      "False\n"
     ]
    }
   ],
   "source": [
    "#logical comparisons\n",
    "print(x > 5)\n",
    "print(np.any(x > 5))\n",
    "print(np.all(x>5))"
   ]
  },
  {
   "cell_type": "markdown",
   "metadata": {},
   "source": [
    "## Array shape manipulation"
   ]
  },
  {
   "cell_type": "code",
   "execution_count": 30,
   "metadata": {},
   "outputs": [
    {
     "name": "stdout",
     "output_type": "stream",
     "text": [
      "[[1 2 3]\n",
      " [4 5 6]]\n",
      "[1 2 3 4 5 6]\n",
      "[[1 4]\n",
      " [2 5]\n",
      " [3 6]]\n",
      "[1 4 2 5 3 6]\n"
     ]
    }
   ],
   "source": [
    "#Flattening\n",
    "\n",
    "a = np.array([[1, 2, 3], [4, 5, 6]])\n",
    "print(a)\n",
    "#order (0,0), (0,1), (0,2), (1,0), (1,1), (1,2)\n",
    "print(a.ravel())   #array([1, 2, 3, 4, 5, 6])  ()\n",
    "print(a.T)         #array([[1, 4], [2, 5], [3, 6]])\n",
    "#order (0,0), (0,1), (1,0), (1,1), (2,0), (2,1)\n",
    "print(a.T.ravel())  #array([1, 4, 2, 5, 3, 6])"
   ]
  },
  {
   "cell_type": "code",
   "execution_count": 31,
   "metadata": {},
   "outputs": [
    {
     "name": "stdout",
     "output_type": "stream",
     "text": [
      "(2L, 3L)\n",
      "[1 2 3 4 5 6]\n",
      "[[1 2 3]\n",
      " [4 5 6]]\n",
      "[[1 2]\n",
      " [3 4]\n",
      " [5 6]]\n"
     ]
    }
   ],
   "source": [
    "#reshape makes flattened array back into original\n",
    "print(a.shape)   #(2, 3)\n",
    "b = a.ravel()   \n",
    "print(b)     #array([1,2,3,4,5,6])\n",
    "print(b.reshape((2, 3)))   #array([[1, 2, 3], [4, 5, 6]])\n",
    "\n",
    "#reshape also operates on non-flat array - same as flattening and then reshaping\n",
    "print(b.reshape((3,2)))"
   ]
  },
  {
   "cell_type": "code",
   "execution_count": 32,
   "metadata": {},
   "outputs": [
    {
     "name": "stdout",
     "output_type": "stream",
     "text": [
      "[[ 0  1  2  3]\n",
      " [ 4  5  6  7]\n",
      " [ 8  9 10 11]\n",
      " [12 13 14 15]\n",
      " [16 17 18 19]\n",
      " [20 21 22 23]]\n",
      "[[ 0  1  2]\n",
      " [ 3  4  5]\n",
      " [ 6  7  8]\n",
      " [ 9 10 11]\n",
      " [12 13 14]\n",
      " [15 16 17]]\n"
     ]
    },
    {
     "ename": "ValueError",
     "evalue": "total size of new array must be unchanged",
     "output_type": "error",
     "traceback": [
      "\u001b[1;31m---------------------------------------------------------------------------\u001b[0m",
      "\u001b[1;31mValueError\u001b[0m                                Traceback (most recent call last)",
      "\u001b[1;32m<ipython-input-32-9fd7b9a7957e>\u001b[0m in \u001b[0;36m<module>\u001b[1;34m()\u001b[0m\n\u001b[0;32m      2\u001b[0m \u001b[1;32mprint\u001b[0m\u001b[1;33m(\u001b[0m\u001b[0mnp\u001b[0m\u001b[1;33m.\u001b[0m\u001b[0marange\u001b[0m\u001b[1;33m(\u001b[0m\u001b[1;36m24\u001b[0m\u001b[1;33m)\u001b[0m\u001b[1;33m.\u001b[0m\u001b[0mreshape\u001b[0m\u001b[1;33m(\u001b[0m\u001b[1;33m(\u001b[0m\u001b[1;36m6\u001b[0m\u001b[1;33m,\u001b[0m \u001b[1;33m-\u001b[0m\u001b[1;36m1\u001b[0m\u001b[1;33m)\u001b[0m\u001b[1;33m)\u001b[0m\u001b[1;33m)\u001b[0m\u001b[1;33m\u001b[0m\u001b[0m\n\u001b[0;32m      3\u001b[0m \u001b[1;32mprint\u001b[0m\u001b[1;33m(\u001b[0m\u001b[0mnp\u001b[0m\u001b[1;33m.\u001b[0m\u001b[0marange\u001b[0m\u001b[1;33m(\u001b[0m\u001b[1;36m18\u001b[0m\u001b[1;33m)\u001b[0m\u001b[1;33m.\u001b[0m\u001b[0mreshape\u001b[0m\u001b[1;33m(\u001b[0m\u001b[1;33m(\u001b[0m\u001b[1;36m6\u001b[0m\u001b[1;33m,\u001b[0m \u001b[1;33m-\u001b[0m\u001b[1;36m1\u001b[0m\u001b[1;33m)\u001b[0m\u001b[1;33m)\u001b[0m\u001b[1;33m)\u001b[0m\u001b[1;33m\u001b[0m\u001b[0m\n\u001b[1;32m----> 4\u001b[1;33m \u001b[1;32mprint\u001b[0m\u001b[1;33m(\u001b[0m\u001b[0mnp\u001b[0m\u001b[1;33m.\u001b[0m\u001b[0marange\u001b[0m\u001b[1;33m(\u001b[0m\u001b[1;36m17\u001b[0m\u001b[1;33m)\u001b[0m\u001b[1;33m.\u001b[0m\u001b[0mreshape\u001b[0m\u001b[1;33m(\u001b[0m\u001b[1;33m(\u001b[0m\u001b[1;36m6\u001b[0m\u001b[1;33m,\u001b[0m \u001b[1;33m-\u001b[0m\u001b[1;36m1\u001b[0m\u001b[1;33m)\u001b[0m\u001b[1;33m)\u001b[0m\u001b[1;33m)\u001b[0m\u001b[1;33m\u001b[0m\u001b[0m\n\u001b[0m",
      "\u001b[1;31mValueError\u001b[0m: total size of new array must be unchanged"
     ]
    }
   ],
   "source": [
    "#leaving unspecified dimensions\n",
    "print(np.arange(24).reshape((6, -1)))\n",
    "print(np.arange(18).reshape((6, -1)))\n",
    "print(np.arange(17).reshape((6, -1)))"
   ]
  },
  {
   "cell_type": "markdown",
   "metadata": {},
   "source": [
    "## Broadcasting\n",
    "\n",
    "\n",
    "    Basic operations on numpy arrays (addition, etc.) are elementwise\n",
    "\n",
    "    This works on arrays of the same size.\n",
    "\n",
    "        Nevertheless, It’s also possible to do operations on arrays of different\n",
    "        sizes if Numpy can transform these arrays so that they all have\n",
    "        the same size: this conversion is called broadcasting.\n",
    "\n",
    "The image below gives an example of broadcasting:\n",
    "<img src=\"numpy_broadcasting.png\">"
   ]
  },
  {
   "cell_type": "code",
   "execution_count": 33,
   "metadata": {},
   "outputs": [
    {
     "name": "stdout",
     "output_type": "stream",
     "text": [
      "a \n",
      "[[ 0  0  0]\n",
      " [10 10 10]\n",
      " [20 20 20]\n",
      " [30 30 30]]\n",
      "b\n",
      "[0 1 2]\n",
      "a + b \n",
      "[[ 0  1  2]\n",
      " [10 11 12]\n",
      " [20 21 22]\n",
      " [30 31 32]]\n"
     ]
    }
   ],
   "source": [
    "a = np.tile(np.arange(0, 40, 10), (3, 1)).T\n",
    "print('a ')\n",
    "print(a)\n",
    "\n",
    "b = np.array([0, 1, 2])\n",
    "print('b')\n",
    "print(b)\n",
    "print('a + b ')\n",
    "print(a + b)"
   ]
  }
 ],
 "metadata": {
  "kernelspec": {
   "display_name": "Python 3",
   "language": "python",
   "name": "python3"
  },
  "language_info": {
   "codemirror_mode": {
    "name": "ipython",
    "version": 3
   },
   "file_extension": ".py",
   "mimetype": "text/x-python",
   "name": "python",
   "nbconvert_exporter": "python",
   "pygments_lexer": "ipython3",
   "version": "3.6.1"
  }
 },
 "nbformat": 4,
 "nbformat_minor": 1
}
