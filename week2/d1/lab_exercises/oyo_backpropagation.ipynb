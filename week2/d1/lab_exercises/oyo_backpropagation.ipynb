{
 "cells": [
  {
   "cell_type": "markdown",
   "metadata": {
    "slideshow": {
     "slide_type": "slide"
    }
   },
   "source": [
    "1. In your own words, explain what a derivative is.\n",
    " \n",
    " Consider a function $y = f(x)$. We don't know anything about $f$, but we can evaluate it at any point $x$ we want, as many times as we want.\n",
    " \n",
    "2. Let $x_0$ be a point. Is it possible to compute $\\dfrac{\\partial f}{\\partial x}(x_0)$? Why or why not?\n",
    "\n",
    "*The notation $\\dfrac{\\partial f}{\\partial x}(x_0)$ means \"the derivative of $f$ with respect to $x$ at the point $x_0$.*"
   ]
  }
 ],
 "metadata": {
  "celltoolbar": "Slideshow",
  "kernelspec": {
   "display_name": "Python 3",
   "language": "python",
   "name": "python3"
  },
  "language_info": {
   "codemirror_mode": {
    "name": "ipython",
    "version": 3
   },
   "file_extension": ".py",
   "mimetype": "text/x-python",
   "name": "python",
   "nbconvert_exporter": "python",
   "pygments_lexer": "ipython3",
   "version": "3.6.1"
  }
 },
 "nbformat": 4,
 "nbformat_minor": 2
}
